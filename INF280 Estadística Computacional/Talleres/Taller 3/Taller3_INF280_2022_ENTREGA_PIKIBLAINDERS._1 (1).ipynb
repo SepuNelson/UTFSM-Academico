{
 "cells": [
  {
   "cell_type": "markdown",
   "metadata": {
    "id": "KJ3CH3gFtttD"
   },
   "source": [
    "<hr style=\"height:2px;border:none\"/>\n",
    "<h1 align='center'> INF-280 Estadística Computacional II-2022 </h1>\n",
    "\n",
    "<H3 align='center'> Tema 7 - Estimación de Intervalos de Confianza  </H3>\n",
    "\n",
    "\\\n",
    "\n",
    "\n",
    "Nombre del equipo: PIKIBLAINDERS\n",
    "\n",
    "\n",
    "Integrantes:\n",
    "\n",
    "\n",
    "*   Ignacio Alvarez - 202073582-4 - [video](https://youtu.be/8RC1QXi5EzM)\n",
    "*   Nelson Sepúlveda- 202004610-7 - [video](https://youtu.be/tFyiO_fo1WI)\n",
    "*   Carolina Muñoz - 202004647-6 - [video](https://youtu.be/qigV4tkZeM4)\n",
    "\n",
    "\n",
    "*Recuerden que si su equipo se llama \"El ritmo no perdona\", entonces el nombre del archivo a subir debe ser T7_El_ritmo_no_perdona.ipynb*\n",
    "\n",
    "\n",
    "### **Formalidades**  \n",
    "* Es posible utilizar apuntes, libros, papers, ejemplos y cualquier otro material que desee de internet, pero debe ser usted quien desarrolle los ejercicios y comente los resultados en el Notebook que entregará. \n",
    "* Se permite el uso de las librerías: pandas, numpy, matplotlib y seaborn. Si desea utilizar otra librería debe indicar cómo instalarla.\n",
    "* Se debe trabajar en grupos de **dos o tres personas**, las cuales deberán estar inscritas a través de __[Aula](https://aula.usm.cl/)__.\n",
    "* Además del Notebook, deberán entregar un video explicando lo que hizo, paso a paso, como en los ejemplos entregados en AULA. Este vídeo es **individual**, es decir, cada integrante debe hacerlo por separado (debiendo utilizar el mismo Jupyter Notebook). El video puede ser subido a una plataforma externa como Youtube, Google Drive, ó Dropbox. El **link a compartir** (*visible para cualquier usuario con el link*) debe ir dentro del Notebook.\n",
    "* La nota de esta actividad es grupal.\n",
    "\n",
    "\n",
    "<hr style=\"height:2px;border:none\"/>\n",
    "\n",
    "### **Entrega** \n",
    "* **Formato**: Se debe realizar una **única** entrega por grupo (un representate del grupo) a través de  __[**Aula**](https://aula.usm.cl/)__.\n",
    "* **Archivo**: El nombre del archivo a subir debe ser **T7_Nombre_Del_Equipo.ipynb**, por ejemplo, si su equipo se llama \"El ritmo no perdona\", entonces el nombre del archivo debe ser **T7_El_ritmo_no_perdona.ipynb**\n",
    "* **Archivo**: Sus respuestas deben ser entregadas en forma de Jupyter Notebook, incluyendo **todos links** a los vídeos explicativos, uno por cada integrante.\n",
    "    * **Vídeo**: Debe grabar la pantalla (Jupyter Notebok) donde se realiza la explicación de la actividad, con una duración máxima de 25 minutos.\n",
    "* **Fecha límite**: Domingo 27 de Noviembre a las 23:59\n",
    "\n",
    "<hr style=\"height:2px;border:none\"/>\n",
    "\n",
    "### **Descuentos**\n",
    "\n",
    "* Se descontarán 5 puntos si el nombre del archivo subido no sigue el formato señalado.\n",
    "* Se descontarán 10 puntos por cada hora de atraso en la entrega.\n",
    "* Todos los gráficos que realicen deben contener los nombres de las variables en los ejes. Se descontarán 3 puntos por cada nombre faltante.\n",
    "\n",
    "<hr style=\"height:2px;border:none\"/>"
   ]
  },
  {
   "cell_type": "markdown",
   "metadata": {
    "id": "SaaUQp7FSjWv"
   },
   "source": [
    "<table align='left'>\n",
    "<tr>\n",
    "<td><img src='https://as01.epimg.net/deporteyvida/imagenes/2017/10/28/portada/1509177885_209365_1509178036_noticia_normal.jpg' width='650'/> </td>\n",
    "</tr>\n",
    "</table>"
   ]
  },
  {
   "cell_type": "markdown",
   "metadata": {
    "id": "srxBFeLqS3TM"
   },
   "source": [
    "## Contexto"
   ]
  },
  {
   "cell_type": "markdown",
   "metadata": {
    "id": "KULeq6-zhXTZ"
   },
   "source": [
    "Las enfermedades cardiovasculares (ECV) son la principal causa de muerte en todo el mundo y se cobran aproximadamente 17,9 millones de vidas al año, lo que representa el 31 % de todas las muertes en todo el mundo. Cuatro de cada 5 muertes por ECV se deben a ataques cardíacos y accidentes cerebrovasculares, y un tercio de estas muertes ocurren prematuramente en personas menores de 70 años. \n",
    "\n",
    "La insuficiencia cardíaca es un evento común causado por ECV. Por esto, se ha construido un dataset llamado `heart.csv`, el cual contiene 11 características que pueden usarse para predecir una posible enfermedad cardíaca. Dichas características se detallan a continuación:\n",
    "\n",
    "\n",
    "1.   `Age`: age of the patient [years]\n",
    "2.   `Sex`: sex of the patient [M: Male, F: Female]\n",
    "3.   `ChestPainType`: chest pain type [TA: Typical Angina, ATA: Atypical Angina, NAP: Non-Anginal Pain, ASY: Asymptomatic]\n",
    "4.   `RestingBP`: resting blood pressure [mm Hg]\n",
    "5.   `Cholesterol`: serum cholesterol [mm/dl]\n",
    "6.   `FastingBS`: fasting blood sugar [1: if FastingBS > 120 mg/dl, 0: otherwise]\n",
    "7.   `RestingECG`: resting electrocardiogram results [Normal: Normal, ST: having ST-T wave abnormality (T wave inversions and/or ST elevation or depression of > 0.05 mV), LVH: showing probable or definite left ventricular hypertrophy by Estes' criteria]\n",
    "8.   `MaxHR`: maximum heart rate achieved [Numeric value between 60 and 202]\n",
    "9.   `ExerciseAngina`: exercise-induced angina [Y: Yes, N: No]\n",
    "10.  `Oldpeak`: oldpeak = ST [Numeric value measured in depression]\n",
    "11.  `ST_Slope`: the slope of the peak exercise ST segment [Up: upsloping, Flat: flat, Down: downsloping]\n",
    "12.  `HeartDisease`: output class [1: heart disease, 0: Normal]\n",
    "\n",
    "\n"
   ]
  },
  {
   "cell_type": "markdown",
   "metadata": {
    "id": "Uy7o-VE6wgNg"
   },
   "source": [
    "# Librerías"
   ]
  },
  {
   "cell_type": "code",
   "execution_count": 6,
   "metadata": {
    "id": "Fnn3KM_QwieF"
   },
   "outputs": [],
   "source": [
    "import pandas as pd\n",
    "import numpy as np\n",
    "import seaborn as sns; sns.set()\n",
    "import matplotlib.pyplot as plt\n",
    "import warnings\n",
    "import scipy.stats as st\n",
    "warnings.filterwarnings(\"ignore\")\n"
   ]
  },
  {
   "cell_type": "markdown",
   "metadata": {
    "id": "yu2fyuuKhfQo"
   },
   "source": [
    "# Datos"
   ]
  },
  {
   "cell_type": "code",
   "execution_count": 7,
   "metadata": {
    "colab": {
     "base_uri": "https://localhost:8080/",
     "height": 423
    },
    "id": "JTb8zJpk9YIU",
    "outputId": "73e71136-ec2b-43e6-e0eb-5e82662f7378"
   },
   "outputs": [
    {
     "data": {
      "text/html": [
       "<div>\n",
       "<style scoped>\n",
       "    .dataframe tbody tr th:only-of-type {\n",
       "        vertical-align: middle;\n",
       "    }\n",
       "\n",
       "    .dataframe tbody tr th {\n",
       "        vertical-align: top;\n",
       "    }\n",
       "\n",
       "    .dataframe thead th {\n",
       "        text-align: right;\n",
       "    }\n",
       "</style>\n",
       "<table border=\"1\" class=\"dataframe\">\n",
       "  <thead>\n",
       "    <tr style=\"text-align: right;\">\n",
       "      <th></th>\n",
       "      <th>Age</th>\n",
       "      <th>Sex</th>\n",
       "      <th>ChestPainType</th>\n",
       "      <th>RestingBP</th>\n",
       "      <th>Cholesterol</th>\n",
       "      <th>FastingBS</th>\n",
       "      <th>RestingECG</th>\n",
       "      <th>MaxHR</th>\n",
       "      <th>ExerciseAngina</th>\n",
       "      <th>Oldpeak</th>\n",
       "      <th>ST_Slope</th>\n",
       "      <th>HeartDisease</th>\n",
       "    </tr>\n",
       "  </thead>\n",
       "  <tbody>\n",
       "    <tr>\n",
       "      <th>0</th>\n",
       "      <td>40</td>\n",
       "      <td>M</td>\n",
       "      <td>ATA</td>\n",
       "      <td>140</td>\n",
       "      <td>289</td>\n",
       "      <td>0</td>\n",
       "      <td>Normal</td>\n",
       "      <td>172</td>\n",
       "      <td>N</td>\n",
       "      <td>0.0</td>\n",
       "      <td>Up</td>\n",
       "      <td>0</td>\n",
       "    </tr>\n",
       "    <tr>\n",
       "      <th>1</th>\n",
       "      <td>49</td>\n",
       "      <td>F</td>\n",
       "      <td>NAP</td>\n",
       "      <td>160</td>\n",
       "      <td>180</td>\n",
       "      <td>0</td>\n",
       "      <td>Normal</td>\n",
       "      <td>156</td>\n",
       "      <td>N</td>\n",
       "      <td>1.0</td>\n",
       "      <td>Flat</td>\n",
       "      <td>1</td>\n",
       "    </tr>\n",
       "    <tr>\n",
       "      <th>2</th>\n",
       "      <td>37</td>\n",
       "      <td>M</td>\n",
       "      <td>ATA</td>\n",
       "      <td>130</td>\n",
       "      <td>283</td>\n",
       "      <td>0</td>\n",
       "      <td>ST</td>\n",
       "      <td>98</td>\n",
       "      <td>N</td>\n",
       "      <td>0.0</td>\n",
       "      <td>Up</td>\n",
       "      <td>0</td>\n",
       "    </tr>\n",
       "    <tr>\n",
       "      <th>3</th>\n",
       "      <td>48</td>\n",
       "      <td>F</td>\n",
       "      <td>ASY</td>\n",
       "      <td>138</td>\n",
       "      <td>214</td>\n",
       "      <td>0</td>\n",
       "      <td>Normal</td>\n",
       "      <td>108</td>\n",
       "      <td>Y</td>\n",
       "      <td>1.5</td>\n",
       "      <td>Flat</td>\n",
       "      <td>1</td>\n",
       "    </tr>\n",
       "    <tr>\n",
       "      <th>4</th>\n",
       "      <td>54</td>\n",
       "      <td>M</td>\n",
       "      <td>NAP</td>\n",
       "      <td>150</td>\n",
       "      <td>195</td>\n",
       "      <td>0</td>\n",
       "      <td>Normal</td>\n",
       "      <td>122</td>\n",
       "      <td>N</td>\n",
       "      <td>0.0</td>\n",
       "      <td>Up</td>\n",
       "      <td>0</td>\n",
       "    </tr>\n",
       "    <tr>\n",
       "      <th>...</th>\n",
       "      <td>...</td>\n",
       "      <td>...</td>\n",
       "      <td>...</td>\n",
       "      <td>...</td>\n",
       "      <td>...</td>\n",
       "      <td>...</td>\n",
       "      <td>...</td>\n",
       "      <td>...</td>\n",
       "      <td>...</td>\n",
       "      <td>...</td>\n",
       "      <td>...</td>\n",
       "      <td>...</td>\n",
       "    </tr>\n",
       "    <tr>\n",
       "      <th>913</th>\n",
       "      <td>45</td>\n",
       "      <td>M</td>\n",
       "      <td>TA</td>\n",
       "      <td>110</td>\n",
       "      <td>264</td>\n",
       "      <td>0</td>\n",
       "      <td>Normal</td>\n",
       "      <td>132</td>\n",
       "      <td>N</td>\n",
       "      <td>1.2</td>\n",
       "      <td>Flat</td>\n",
       "      <td>1</td>\n",
       "    </tr>\n",
       "    <tr>\n",
       "      <th>914</th>\n",
       "      <td>68</td>\n",
       "      <td>M</td>\n",
       "      <td>ASY</td>\n",
       "      <td>144</td>\n",
       "      <td>193</td>\n",
       "      <td>1</td>\n",
       "      <td>Normal</td>\n",
       "      <td>141</td>\n",
       "      <td>N</td>\n",
       "      <td>3.4</td>\n",
       "      <td>Flat</td>\n",
       "      <td>1</td>\n",
       "    </tr>\n",
       "    <tr>\n",
       "      <th>915</th>\n",
       "      <td>57</td>\n",
       "      <td>M</td>\n",
       "      <td>ASY</td>\n",
       "      <td>130</td>\n",
       "      <td>131</td>\n",
       "      <td>0</td>\n",
       "      <td>Normal</td>\n",
       "      <td>115</td>\n",
       "      <td>Y</td>\n",
       "      <td>1.2</td>\n",
       "      <td>Flat</td>\n",
       "      <td>1</td>\n",
       "    </tr>\n",
       "    <tr>\n",
       "      <th>916</th>\n",
       "      <td>57</td>\n",
       "      <td>F</td>\n",
       "      <td>ATA</td>\n",
       "      <td>130</td>\n",
       "      <td>236</td>\n",
       "      <td>0</td>\n",
       "      <td>LVH</td>\n",
       "      <td>174</td>\n",
       "      <td>N</td>\n",
       "      <td>0.0</td>\n",
       "      <td>Flat</td>\n",
       "      <td>1</td>\n",
       "    </tr>\n",
       "    <tr>\n",
       "      <th>917</th>\n",
       "      <td>38</td>\n",
       "      <td>M</td>\n",
       "      <td>NAP</td>\n",
       "      <td>138</td>\n",
       "      <td>175</td>\n",
       "      <td>0</td>\n",
       "      <td>Normal</td>\n",
       "      <td>173</td>\n",
       "      <td>N</td>\n",
       "      <td>0.0</td>\n",
       "      <td>Up</td>\n",
       "      <td>0</td>\n",
       "    </tr>\n",
       "  </tbody>\n",
       "</table>\n",
       "<p>918 rows × 12 columns</p>\n",
       "</div>"
      ],
      "text/plain": [
       "     Age Sex ChestPainType  RestingBP  Cholesterol  FastingBS RestingECG  \\\n",
       "0     40   M           ATA        140          289          0     Normal   \n",
       "1     49   F           NAP        160          180          0     Normal   \n",
       "2     37   M           ATA        130          283          0         ST   \n",
       "3     48   F           ASY        138          214          0     Normal   \n",
       "4     54   M           NAP        150          195          0     Normal   \n",
       "..   ...  ..           ...        ...          ...        ...        ...   \n",
       "913   45   M            TA        110          264          0     Normal   \n",
       "914   68   M           ASY        144          193          1     Normal   \n",
       "915   57   M           ASY        130          131          0     Normal   \n",
       "916   57   F           ATA        130          236          0        LVH   \n",
       "917   38   M           NAP        138          175          0     Normal   \n",
       "\n",
       "     MaxHR ExerciseAngina  Oldpeak ST_Slope  HeartDisease  \n",
       "0      172              N      0.0       Up             0  \n",
       "1      156              N      1.0     Flat             1  \n",
       "2       98              N      0.0       Up             0  \n",
       "3      108              Y      1.5     Flat             1  \n",
       "4      122              N      0.0       Up             0  \n",
       "..     ...            ...      ...      ...           ...  \n",
       "913    132              N      1.2     Flat             1  \n",
       "914    141              N      3.4     Flat             1  \n",
       "915    115              Y      1.2     Flat             1  \n",
       "916    174              N      0.0     Flat             1  \n",
       "917    173              N      0.0       Up             0  \n",
       "\n",
       "[918 rows x 12 columns]"
      ]
     },
     "execution_count": 7,
     "metadata": {},
     "output_type": "execute_result"
    }
   ],
   "source": [
    "data = pd.read_csv(\"heart.csv\")\n",
    "data"
   ]
  },
  {
   "cell_type": "markdown",
   "metadata": {
    "id": "KknvDAeG2V9j"
   },
   "source": [
    "# Preguntas"
   ]
  },
  {
   "cell_type": "markdown",
   "metadata": {
    "id": "IvUsPbc-dMyL"
   },
   "source": [
    "Para las siguientes preguntas considere un nivel de confianza del **$95\\%$**, a menos que se indique lo contrario.\n",
    "\n",
    "\n",
    "1. Se piensa que la edad es un factor importante a la hora de determinar si una persona tiene una enfermedad al corazón(HeartDisease=1). En particular, se cree que las mujeres tienden a presentar una enfermedad al corazón a una edad mayor que los hombres. ¿Se puede afirmar que la edad media de las mujeres que tienen una enfermedad al corazón es mayor que la edad media de los hombres con una enfermedad al corazón? **(15 pts)**\n",
    "2. Determine qué ocurre con su respuesta de la pregunta anterior a medida que $α$ aumenta entre 0 y 1. **(10 pts)**\n",
    "3. Se está realizando una campaña preventiva contra las enfermedades al corazón, donde se ha observado que estas enfermedades afectan principalmente a personas mayores de 50 años. Sin embargo, se busca determinar si afecta más a los hombres o a las mujeres, o bien afecta a ambos sexos por igual. Considerando solamente a las personas mayores de 50 años, determine si la proporción de hombres con enfermedades al corazón es mayor que la proporción de mujeres con enfermedades al corazón. **(15 pts)**\n",
    "4. Determine si la media del colesterol de los hombres \"sanos\"(HeartDisease=0) es mayor que la media del colesterol de las mujeres \"sanas\". Además, analice lo que ocurre con sus varianzas y concluya al respecto. **(20 pts)**. **IMPORTANTE: No considere los datos que tengan Cholesterol=0**\n",
    "5. Se cree que la media de la presión arterial durante el reposo (RestingBP) suele ser mayor en personas con enfermedades al corazón (HeartDisease=1). Para las siguiente preguntas **considere un nivel de confianza del $99.5\\%$. Además, No considere los datos que tengan RestingBP=0**\n",
    "\n",
    "    > a) Determine si la afirmación es verdadera considerando solamente a las mujeres. En caso de no ser cierta, ¿Cuál es el valor mínimo de $\\alpha$ para que la afirmación sea verdadera? **(5 pts)**\n",
    "\n",
    "    > b) Determine si la afirmación es verdadera considerando solamente a los hombres. En caso de no ser cierta, ¿Cuál es el valor mínimo de $\\alpha$ para que la afirmación sea verdadera? **(5 pts)**\n",
    "\n",
    "    > c) Determine si la afirmación es verdadera para todas las personas. En caso de no ser cierta, ¿Cuál es el valor mínimo de $\\alpha$ para que la afirmación sea verdadera? **(5 pts)**\n",
    "\n",
    "6.  El dolor en el pecho al realizar ejercicios (ExerciseAngina='Y') es un síntoma que se suele presentar en personas con enfermedades al corazón, ya que el corazón de estas personas no recibe suficiente sangre oxigenada.\n",
    "    \n",
    "    > a) Considerando solamente a las personas **con** enfermedades al corazón, ¿Se puede afirmar que la proporción de personas con dolor en el pecho cuando realizan ejercicios (ExerciseAngina='Y')` es mayor al 50%?, ¿Cuál es el máximo nivel de confianza con el cual se cumple esta afirmación? **(15 pts)**\n",
    "\n",
    "    > b) ¿Qué ocurre si solamente se consideran a las mujeres con enfermedades al corazón en la pregunta a)? **(5 pts)**\n",
    "\n",
    "    > c) ¿Qué ocurre si solamente se consideran a los hombres con enfermedades al corazón en la pregunta a)? **(5 pts)**\n",
    "\n"
   ]
  },
  {
   "cell_type": "markdown",
   "metadata": {},
   "source": [
    "### Pregunta 1"
   ]
  },
  {
   "cell_type": "markdown",
   "metadata": {},
   "source": [
    "Para responder esta pregunta calcularemos la media muestral y un intervalo de confianza para el valor de la media poblacional. A partir de ambos datos concluiremos la veracidad de la afirmación planteada en la pregunta."
   ]
  },
  {
   "cell_type": "code",
   "execution_count": 8,
   "metadata": {},
   "outputs": [
    {
     "name": "stdout",
     "output_type": "stream",
     "text": [
      "Hombres:  (55.06411188020128, 56.673879386174264)\n",
      "Mujeres:  (53.90139230573687, 58.45860769426313)\n",
      "\n",
      "Media poblacional para hombres:  55.86899563318777\n",
      "Media poblacional para mujeres:  56.18\n"
     ]
    }
   ],
   "source": [
    "#DataFrame de Hombres\n",
    "data_h = data[data.Sex == 'M']\n",
    "\n",
    "#DataFrame Hombres con HeartDisease = 1.\n",
    "data_hHD = data_h[data_h.HeartDisease == 1]\n",
    "print(\"Hombres: \", st.norm.interval(alpha = 0.95, loc = np.mean(data_hHD['Age']), scale = st.sem(data_hHD['Age'])))\n",
    "\n",
    "\n",
    "#DataFrame de Mujeres\n",
    "data_m = data[data.Sex == 'F']\n",
    "\n",
    "#DataFrame Mujeres con HeartDisease = 1.\n",
    "data_mHD = data_m[data_m.HeartDisease == 1]\n",
    "print(\"Mujeres: \", st.norm.interval(alpha = 0.95, loc = np.mean(data_mHD['Age']), scale = st.sem(data_mHD['Age'])))\n",
    "\n",
    "print(\"\\nMedia poblacional para hombres: \",np.mean(data_hHD['Age']))\n",
    "print(  \"Media poblacional para mujeres: \",np.mean(data_mHD['Age']))"
   ]
  },
  {
   "cell_type": "markdown",
   "metadata": {},
   "source": [
    "Analizando los intervalos podemos ver que estos se intersectan, por lo que es poco preciso hacer alguna afirmacion acerca del valor de la media. Sin embargo sabemos que (gracias al metodo de los momentos)la media muestral es un buen estimador de la media poblacional, por lo que se podría decir que la afirmacion de que la edad media de las mujeres que tienen una enfermedad al corazón es mayor que la edad media de los hombres con una enfermedad al corazón."
   ]
  },
  {
   "cell_type": "markdown",
   "metadata": {},
   "source": [
    "## Pregunta 2"
   ]
  },
  {
   "cell_type": "markdown",
   "metadata": {},
   "source": [
    "\"$α$\" es conocido como la significancia de un I.C, y éste define el nivel de confianza del I.C, de forma que si aumenta el valor de $α$ disminuye el valor del nivel de confianza y vice versa."
   ]
  },
  {
   "cell_type": "code",
   "execution_count": 9,
   "metadata": {},
   "outputs": [
    {
     "name": "stdout",
     "output_type": "stream",
     "text": [
      "Hombres con alpha=0.005:  (54.71625206644587, 57.021739199929684)\n",
      "Mujeres con alpha=0.005:  (52.916609043300554, 59.44339095669945)\n",
      "\n",
      "Hombres con alpha=0.10:  (55.19351589436756, 56.54447537200799)\n",
      "Mujeres con alpha=0.10:  (54.26773214208434, 58.09226785791566)\n",
      "\n",
      "Hombres con alpha=0.50:  (55.59200797128635, 56.145983295089195)\n",
      "Mujeres con alpha=0.50:  (55.39585419598459, 56.96414580401541)\n",
      "\n",
      "Hombres con alpha=0.75:  (55.73814238836294, 55.99984887801261)\n",
      "Mujeres con alpha=0.75:  (55.8095574244469, 56.5504425755531)\n",
      "\n",
      "Hombres con alpha=1:  (55.86899563318777, 55.86899563318777)\n",
      "Mujeres con alpha=1:  (56.18, 56.18)\n"
     ]
    }
   ],
   "source": [
    "print(\"Hombres con alpha=0.005: \", st.norm.interval(alpha = 0.995, loc = np.mean(data_hHD['Age']), scale = st.sem(data_hHD['Age'])))\n",
    "print(\"Mujeres con alpha=0.005: \", st.norm.interval(alpha = 0.995, loc = np.mean(data_mHD['Age']), scale = st.sem(data_mHD['Age'])))\n",
    "\n",
    "print(\"\\nHombres con alpha=0.10: \", st.norm.interval(alpha = 0.90, loc = np.mean(data_hHD['Age']), scale = st.sem(data_hHD['Age'])))\n",
    "print(  \"Mujeres con alpha=0.10: \", st.norm.interval(alpha = 0.90, loc = np.mean(data_mHD['Age']), scale = st.sem(data_mHD['Age'])))\n",
    "\n",
    "print(\"\\nHombres con alpha=0.50: \", st.norm.interval(alpha = 0.50, loc = np.mean(data_hHD['Age']), scale = st.sem(data_hHD['Age'])))\n",
    "print(  \"Mujeres con alpha=0.50: \", st.norm.interval(alpha = 0.50, loc = np.mean(data_mHD['Age']), scale = st.sem(data_mHD['Age'])))\n",
    "\n",
    "print(\"\\nHombres con alpha=0.75: \", st.norm.interval(alpha = 0.25, loc = np.mean(data_hHD['Age']), scale = st.sem(data_hHD['Age'])))\n",
    "print(  \"Mujeres con alpha=0.75: \", st.norm.interval(alpha = 0.25, loc = np.mean(data_mHD['Age']), scale = st.sem(data_mHD['Age'])))\n",
    "\n",
    "print(\"\\nHombres con alpha=1: \", st.norm.interval(alpha = 0, loc = np.mean(data_hHD['Age']), scale = st.sem(data_hHD['Age'])))\n",
    "print(  \"Mujeres con alpha=1: \", st.norm.interval(alpha = 0, loc = np.mean(data_mHD['Age']), scale = st.sem(data_mHD['Age'])))"
   ]
  },
  {
   "cell_type": "markdown",
   "metadata": {},
   "source": [
    "Podemos observar que cuando $α$ toma valores cercanos a 0 los intervalos son más anchos, y a medida que $α$ toma valores cercanos a 1 los intervalos son más estrechos. Esto es coherente con lo mencionado anteriormente, dado que el hecho de disminuir el valor de $α$ implica un aumento en el nivel de confianza, siendo el nivel de confianza un indicador de que tan posible es encontrar un parametro dentro del intervalo, por lo que es logico que al aumentar el largo del intervalo también aumente en nivel de confianza."
   ]
  },
  {
   "cell_type": "markdown",
   "metadata": {},
   "source": [
    "# Pregunta 3"
   ]
  },
  {
   "cell_type": "markdown",
   "metadata": {},
   "source": [
    "Calcularemos un intervalo de confianza con un nivel de confianza del 95% para la media de enfermedades al corazon de la poblacion mayor de 50 años, separando entre hombres y mujeres.\n",
    "Destacar que utilizamos la media como indicador del porcentaje de hombres/mujeres con enfermedades al corazon dado que el dominio de esta variable es solo 0 y 1, lo que produce que la media sea equivalente a la proporcion de la poblacion que tenga algun padecimiento."
   ]
  },
  {
   "cell_type": "code",
   "execution_count": 10,
   "metadata": {},
   "outputs": [
    {
     "data": {
      "text/plain": [
       "(0.6658754603404021, 0.7468555458197622)"
      ]
     },
     "execution_count": 10,
     "metadata": {},
     "output_type": "execute_result"
    }
   ],
   "source": [
    "# Intervalo para los hombres\n",
    "data_men = data[data.Sex =='M']\n",
    "data_men = data_men[data_men.Age >50]\n",
    "\n",
    "st.norm.interval(alpha = 0.95, loc = np.mean(data_men['HeartDisease']), scale = st.sem(data_men['HeartDisease']))"
   ]
  },
  {
   "cell_type": "code",
   "execution_count": 11,
   "metadata": {},
   "outputs": [
    {
     "data": {
      "text/plain": [
       "(0.2522270034512278, 0.4260338661139896)"
      ]
     },
     "execution_count": 11,
     "metadata": {},
     "output_type": "execute_result"
    }
   ],
   "source": [
    "# Intervalo para las mujeres\n",
    "data_fem = data[data.Sex =='F']\n",
    "data_fem = data_fem[data_fem.Age > 50]\n",
    "\n",
    "st.norm.interval(alpha = 0.95, loc = np.mean(data_fem['HeartDisease']), scale = st.sem(data_fem['HeartDisease']))"
   ]
  },
  {
   "cell_type": "markdown",
   "metadata": {},
   "source": [
    "Con estos resultados es clara la conclusión de que la proporción de hombres con enfermedades al corazón es mayor que la proporción de mujeres con enfermedades al corazón."
   ]
  },
  {
   "cell_type": "markdown",
   "metadata": {},
   "source": [
    "# Pregunta 4"
   ]
  },
  {
   "cell_type": "markdown",
   "metadata": {},
   "source": [
    "En esta pregunta, al igual que en la 1, realizaremos el calculo de las medias poblacionales y un intervalo de confianza con un nivel de confianza del 95% para concluir si la media del colesterol de los hombres \"sanos\" es mayor que la media del colesterol de las mujeres \"sanas\".\n",
    "Tambien calcularemos "
   ]
  },
  {
   "cell_type": "code",
   "execution_count": 12,
   "metadata": {},
   "outputs": [
    {
     "name": "stdout",
     "output_type": "stream",
     "text": [
      "Media muestrales para el colesterol en hombres:  232.80645161290323\n",
      "\n",
      "Intervalo de confianza para la media de colesterol en hombres:  (226.55364732109453, 239.05925590471193)\n"
     ]
    }
   ],
   "source": [
    "# Intervalo para los hombres\n",
    "data_men = data[data.Sex =='M']\n",
    "data_men = data_men[data_men.HeartDisease == 0]\n",
    "data_men = data_men[data_men.Cholesterol != 0]\n",
    "\n",
    "print(\"Media muestrales para el colesterol en hombres: \",np.mean(data_men['Cholesterol']))\n",
    "\n",
    "print(\"\\nIntervalo de confianza para la media de colesterol en hombres: \",st.norm.interval(alpha = 0.95, loc = np.mean(data_men['Cholesterol']), scale = st.sem(data_men['Cholesterol'])))"
   ]
  },
  {
   "cell_type": "code",
   "execution_count": 13,
   "metadata": {},
   "outputs": [
    {
     "name": "stdout",
     "output_type": "stream",
     "text": [
      "Media muestral para el colesterol en mujeres:  249.18309859154928\n",
      "\n",
      "Intervalo de confianza para la media de colesterol en mujeres:  (238.94800137283738, 259.4181958102612)\n"
     ]
    }
   ],
   "source": [
    "# Intervalo para las mujeres\n",
    "data_fem = data[data.Sex =='F']\n",
    "data_fem = data_fem[data_fem.HeartDisease == 0]\n",
    "data_fem = data_fem[data_fem.Cholesterol != 0]\n",
    "\n",
    "print(\"Media muestral para el colesterol en mujeres: \",np.mean(data_fem['Cholesterol']))\n",
    "\n",
    "print(\"\\nIntervalo de confianza para la media de colesterol en mujeres: \",st.norm.interval(alpha = 0.95, loc = np.mean(data_fem['Cholesterol']), scale = st.sem(data_fem['Cholesterol'])))"
   ]
  },
  {
   "cell_type": "code",
   "execution_count": 14,
   "metadata": {},
   "outputs": [
    {
     "name": "stdout",
     "output_type": "stream",
     "text": [
      "Intervalo de confianza para la varianza en hombres: ( 2123.41 , 3023.62 )\n"
     ]
    }
   ],
   "source": [
    "# I.C para la varianza en hombres\n",
    "n_men = len(data_men.index)-1 # grados de libertad\n",
    "\n",
    "s = np.std(data_men['Cholesterol'])**2 # varianza de la muestra\n",
    "\n",
    "Limite_inf = st.chi2.ppf(0.975, n_men)\n",
    "Limite_sup = st.chi2.ppf(0.025, n_men)\n",
    "\n",
    "Limite_sup = round((n_men*s)/Limite_sup,2)\n",
    "Limite_inf = round((n_men*s)/Limite_inf,2)\n",
    "print(\"Intervalo de confianza para la varianza en hombres: (\",Limite_inf,\",\", Limite_sup, \")\")"
   ]
  },
  {
   "cell_type": "code",
   "execution_count": 15,
   "metadata": {},
   "outputs": [
    {
     "name": "stdout",
     "output_type": "stream",
     "text": [
      "Intervalo de confianza para la varianza en mujeres: ( 3084.56 , 4927.82 )\n"
     ]
    }
   ],
   "source": [
    "# I.C para la varianza en mujeres\n",
    "n_fem = len(data_fem.index)-1 # grados de libertad\n",
    "\n",
    "s = np.std(data_fem['Cholesterol'])**2 # varianza de la muestra\n",
    "\n",
    "Limite_inf = st.chi2.ppf(0.975, n_fem)\n",
    "Limite_sup = st.chi2.ppf(0.025, n_fem)\n",
    "\n",
    "Limite_sup = round((n_fem*s)/Limite_sup,2)\n",
    "Limite_inf = round((n_fem*s)/Limite_inf,2)\n",
    "print(\"Intervalo de confianza para la varianza en mujeres: (\",Limite_inf, \",\", Limite_sup, \")\")"
   ]
  },
  {
   "cell_type": "markdown",
   "metadata": {},
   "source": [
    "Para el caso de las medias podemos ver que los intervalos se intersectan, por lo que es poco preciso concluir a partir de los estos. Sin embargo para valor puntual estimado podemos ver que la media de colesterol en mujeres es notablemente más alta a pesar de que en los intervalos haya interseccion. Esto último puede ser explicado a traves del valor de la varianza de ambas poblaciones, siendo la de las mujeres indiscutiblemente mayor a la de los hombres, cosa que implica que los intervalos de confianza para la media sean más anchos en mujeres que en hombres a pesar de tener el mismo nivel de confianza, causando así que a pesar de tener valores estimados alejados, los intervalos de confianza para la media se intersecten."
   ]
  },
  {
   "cell_type": "markdown",
   "metadata": {
    "id": "hFQdEIIYEtvx"
   },
   "source": [
    "## Pregunta 5"
   ]
  },
  {
   "cell_type": "markdown",
   "metadata": {},
   "source": [
    "### 5.a) Considerando solo a Mujeres."
   ]
  },
  {
   "cell_type": "code",
   "execution_count": 83,
   "metadata": {},
   "outputs": [
    {
     "data": {
      "text/plain": [
       "(132.77270559747782, 151.2272944025222)"
      ]
     },
     "execution_count": 83,
     "metadata": {},
     "output_type": "execute_result"
    }
   ],
   "source": [
    "#DataFrame filtrando solo cuando son Mujeres.\n",
    "data_fem = data[data.Sex == 'F']\n",
    "\n",
    "#DataFrame filtrando cuando son Mujeres con HeartDisease = 1.\n",
    "data_fem_1 = data_fem[data_fem.HeartDisease == 1]\n",
    "#DataFrame sin contar los RestingBP == 0.\n",
    "data_fem_1R = data_fem_1[data_fem.RestingBP != 0]\n",
    "st.norm.interval(alpha = 0.995, loc = np.mean(data_fem_1R['RestingBP']), scale = st.sem(data_fem_1R['RestingBP']))\n",
    "\n",
    "#print(data_fem_1)"
   ]
  },
  {
   "cell_type": "code",
   "execution_count": 84,
   "metadata": {},
   "outputs": [
    {
     "data": {
      "text/plain": [
       "(124.88671851267976, 132.69370106773982)"
      ]
     },
     "execution_count": 84,
     "metadata": {},
     "output_type": "execute_result"
    }
   ],
   "source": [
    "#DataFrame filtrando solo cuando son Mujeres.\n",
    "data_fem = data[data.Sex == 'F']\n",
    "\n",
    "#DataFrame filtrando cuando son Mujeres con HeartDisease = 0.\n",
    "data_fem_0 = data_fem[data_fem.HeartDisease == 0]\n",
    "#DataFrame sin contar los RestingBP == 0.\n",
    "data_fem_0R = data_fem_0[data_fem_0.RestingBP != 0]\n",
    "st.norm.interval(alpha = 0.995, loc = np.mean(data_fem_0R['RestingBP']), scale = st.sem(data_fem_0R['RestingBP']))\n",
    "\n",
    "#print(data_fem_0)"
   ]
  },
  {
   "cell_type": "markdown",
   "metadata": {},
   "source": [
    "Luego, el intervalo de confianza que resulto:\n",
    "\n",
    "Para Mujeres CON enfermedades al corazón(HeartDisease=1) = (132.34, 151.66).  \n",
    "Para Mujeres SIN enfermedades al corazon(HeartDisease=0) = (124.83, 132.76).\n",
    "\n",
    "Se observa claramente que el intervalo de confiaza de la media de la presión arterial durante el reposo suele ser mayor en mujeres CON enfermedades al corazón, es decir esta afirmación es verdadera para este caso, con un alpha minimo de 0,995."
   ]
  },
  {
   "cell_type": "markdown",
   "metadata": {},
   "source": [
    "### 5.b) Considerando solo a Hombres."
   ]
  },
  {
   "cell_type": "code",
   "execution_count": 96,
   "metadata": {},
   "outputs": [
    {
     "data": {
      "text/plain": [
       "(132.3931532670963, 134.8541115031444)"
      ]
     },
     "execution_count": 96,
     "metadata": {},
     "output_type": "execute_result"
    }
   ],
   "source": [
    "#DataFrame filtrando solo cuando son Hombres.\n",
    "data_mas = data[data.Sex == 'M']\n",
    "\n",
    "#DataFrame filtrando cuando son Hombres con HeartDisease = 1.\n",
    "data_mas_1 = data_mas[data_mas.HeartDisease == 1]\n",
    "#DataFrame sin contar los RestingBP == 0.\n",
    "data_mas_1R = data_mas_1[data_mas_1.RestingBP != 0]\n",
    "st.norm.interval(alpha = 0.8508, loc = np.mean(data_mas_1R['RestingBP']), scale = st.sem(data_mas_1R['RestingBP']))\n",
    "\n",
    "#print(data_mas_1)"
   ]
  },
  {
   "cell_type": "code",
   "execution_count": 97,
   "metadata": {},
   "outputs": [
    {
     "data": {
      "text/plain": [
       "(129.47634246356455, 132.37384480235306)"
      ]
     },
     "execution_count": 97,
     "metadata": {},
     "output_type": "execute_result"
    }
   ],
   "source": [
    "#DataFrame filtrando solo cuando son Hombres.\n",
    "data_mas = data[data.Sex == 'M']\n",
    "\n",
    "#DataFrame filtrando cuando son Hombres con HeartDisease = 0.\n",
    "data_mas_0 = data_mas[data_mas.HeartDisease == 0]\n",
    "#DataFrame sin contar los RestingBP == 0.\n",
    "data_mas_0R = data_mas_0[data_mas_0.RestingBP != 0]\n",
    "st.norm.interval(alpha = 0.8508, loc = np.mean(data_mas_0R['RestingBP']), scale = st.sem(data_mas_0R['RestingBP']))\n",
    "\n",
    "#print(data_mas_0)"
   ]
  },
  {
   "cell_type": "markdown",
   "metadata": {},
   "source": [
    "Luego, el intervalo de confianza que resulto:\n",
    "\n",
    "Para Hombres CON enfermedades al corazón(HeartDisease=1) = (132.178, 134.485).  \n",
    "Para Hombres SIN enfermedades al corazon(HeartDisease=0) = (129.636, 132.214).\n",
    "\n",
    "Se observa claramente que el intervalo de confiaza de la media de la presión arterial durante el reposo \n",
    "suele ser mayor en HOmbres CON enfermedades al corazón, es decir esta afirmación es verdadera para un alpha minimo de 0,8508(85,08%).\n"
   ]
  },
  {
   "cell_type": "markdown",
   "metadata": {},
   "source": [
    "### 5.c) Considerando a todas las personas."
   ]
  },
  {
   "cell_type": "code",
   "execution_count": 98,
   "metadata": {},
   "outputs": [
    {
     "data": {
      "text/plain": [
       "(132.62540166684235, 136.2740066171813)"
      ]
     },
     "execution_count": 98,
     "metadata": {},
     "output_type": "execute_result"
    }
   ],
   "source": [
    "#DataFrame filtrando cuando HeartDisease = 1.\n",
    "data_all_1 = data[data.HeartDisease == 1]\n",
    "#DataFrame sin contar los RestingBP == 0.\n",
    "data_all_1R = data_all_1[data_all_1.RestingBP != 0]\n",
    "\n",
    "#Intervalos de confiaza respecto del RestingBP para Todas las personas, es decir, usando todos los datos de la tabla original\n",
    "st.norm.interval(alpha = 0.97, loc = np.mean(data_all_1R['RestingBP']), scale = st.sem(data_all_1R['RestingBP']))\n",
    "\n"
   ]
  },
  {
   "cell_type": "code",
   "execution_count": 99,
   "metadata": {},
   "outputs": [
    {
     "data": {
      "text/plain": [
       "(128.4121757637281, 131.948799846028)"
      ]
     },
     "execution_count": 99,
     "metadata": {},
     "output_type": "execute_result"
    }
   ],
   "source": [
    "#DataFrame filtrando cuando HeartDisease = 0.\n",
    "data_all_0 = data[data.HeartDisease == 0]\n",
    "#DataFrame sin contar los RestingBP == 0.\n",
    "data_all_0R = data_all_0[data_all_0.RestingBP != 0]\n",
    "\n",
    "#Intervalos de confiaza respecto del RestingBP para Todas las personas, es decir, usando todos los datos de la tabla original\n",
    "st.norm.interval(alpha = 0.97, loc = np.mean(data_all_0['RestingBP']), scale = st.sem(data_all_0['RestingBP']))\n"
   ]
  },
  {
   "cell_type": "markdown",
   "metadata": {},
   "source": [
    "Finalmente, el intervalo de confianza que resulto:\n",
    "\n",
    "Para Personas CON enfermedades al corazón(HeartDisease=1) = (132.27, 136.09).\n",
    "\n",
    "Para Personas SIN enfermedades al corazon(HeartDisease=0) = (128.41, 131.96).\n",
    "\n",
    "Se observa claramente que el intervalo de confiaza de la media de la presión arterial durante el reposo \n",
    "suele ser mayor en personas CON enfermedades al corazón, es decir esta afirmación es verdadera para un alpha minimo de 0,97(97%)."
   ]
  },
  {
   "cell_type": "markdown",
   "metadata": {},
   "source": [
    "### 6.a) Considerando a todas las personas."
   ]
  },
  {
   "cell_type": "markdown",
   "metadata": {},
   "source": [
    "La proporciones en estadistica se calculan de la siguiente manera: p = x/N.\n",
    "\n",
    "x: la cantidad de exitos.\n",
    "\n",
    "N: el numero total de pruebas."
   ]
  },
  {
   "cell_type": "code",
   "execution_count": 44,
   "metadata": {},
   "outputs": [
    {
     "name": "stdout",
     "output_type": "stream",
     "text": [
      "Porcentaje % 62.2\n"
     ]
    }
   ],
   "source": [
    "#DataFrame considerando solo HeartDisease = 1.\n",
    "data_allsick = data[data.HeartDisease == 1]\n",
    "\n",
    "#luego, considerando como el total todas las personas con HeartDisease = 1 y como casos de exito ExerciseAngina = Y\n",
    "N = len(data_allsick['ExerciseAngina']) #508\n",
    "x = len(data_allsick[data_allsick.ExerciseAngina == 'Y']['ExerciseAngina']) #316\n",
    "y = len(data_allsick[data_allsick.ExerciseAngina == 'N']['ExerciseAngina']) #192\n",
    "\n",
    "\n",
    "P = (x/N)\n",
    "\n",
    "info = []\n",
    "for i in range(y):\n",
    "    info.append(0)\n",
    "\n",
    "for i in range(x):\n",
    "    info.append(1)\n",
    "\n",
    "st.norm.interval(alpha = 0.97, loc = P, scale = st.sem(info))"
   ]
  },
  {
   "cell_type": "markdown",
   "metadata": {},
   "source": [
    "El porcentaje de la proporción de personas con enfermedades al corazón, con dolor en el pecho cuando realizan ejercicios es 62,2% el cual es mayor al 50%, por lo que esta afirmacion es correcta."
   ]
  },
  {
   "cell_type": "markdown",
   "metadata": {},
   "source": [
    "### 6.b) Considerando solo a Mujeres"
   ]
  },
  {
   "cell_type": "code",
   "execution_count": 45,
   "metadata": {},
   "outputs": [
    {
     "name": "stdout",
     "output_type": "stream",
     "text": [
      "Porcentaje de proporción: % 54.0\n"
     ]
    }
   ],
   "source": [
    "#DataFrame considerando solo HeartDisease = 1.\n",
    "data_allsick = data[data.HeartDisease == 1]\n",
    "\n",
    "#considerando solo a las mujeres\n",
    "data_womensick = data_allsick[data_allsick.Sex == 'F']\n",
    "\n",
    "#luego, considerando como el total todas las personas con HeartDisease = 1 y como casos de exito ExerciseAngina = Y\n",
    "N = len(data_womensick['ExerciseAngina']) #50\n",
    "x = len(data_womensick[data_womensick.ExerciseAngina == 'Y']['ExerciseAngina']) #27\n",
    "\n",
    "P = (x/N)*100\n",
    "print(\"Porcentaje de proporción: %\",round(P,2))"
   ]
  },
  {
   "cell_type": "markdown",
   "metadata": {},
   "source": [
    "El porcentaje de la proporción de Mujeres con enfermedades al corazón, con dolor de pecho cuando realizan ejercicio es de un 54%, por lo que, esta afirmación también es verdadera."
   ]
  },
  {
   "cell_type": "markdown",
   "metadata": {},
   "source": [
    "### 6.C)"
   ]
  },
  {
   "cell_type": "code",
   "execution_count": 100,
   "metadata": {},
   "outputs": [
    {
     "name": "stdout",
     "output_type": "stream",
     "text": [
      "Porcentaje de proporción: % 63.1\n"
     ]
    }
   ],
   "source": [
    "#DataFrame considerando solo HeartDisease = 1.\n",
    "data_allsick = data[data.HeartDisease == 1]\n",
    "\n",
    "#considerando solo a los hombres\n",
    "data_mensick = data_allsick[data_allsick.Sex == 'M']\n",
    "\n",
    "#luego, considerando como el total todas las personas con HeartDisease = 1 y como casos de exito ExerciseAngina = Y\n",
    "N = len(data_mensick['ExerciseAngina']) #458\n",
    "x = len(data_mensick[data_mensick.ExerciseAngina == 'Y']['ExerciseAngina']) #289\n",
    "\n",
    "P = (x/N)*100\n",
    "print(\"Porcentaje de proporción: %\",round(P,2))"
   ]
  },
  {
   "cell_type": "markdown",
   "metadata": {},
   "source": [
    "la proporcion de Hombres enfermos del corazón, con dolor de pecho cuando realizan ejercicio es de un 63,1% por lo que, al igual que el resto de las afirmaciones es verdadera."
   ]
  },
  {
   "cell_type": "code",
   "execution_count": null,
   "metadata": {},
   "outputs": [],
   "source": []
  }
 ],
 "metadata": {
  "colab": {
   "provenance": [],
   "toc_visible": true
  },
  "kernelspec": {
   "display_name": "Python 3 (ipykernel)",
   "language": "python",
   "name": "python3"
  },
  "language_info": {
   "codemirror_mode": {
    "name": "ipython",
    "version": 3
   },
   "file_extension": ".py",
   "mimetype": "text/x-python",
   "name": "python",
   "nbconvert_exporter": "python",
   "pygments_lexer": "ipython3",
   "version": "3.10.5"
  },
  "vscode": {
   "interpreter": {
    "hash": "0b68efdc46170d6c09df60c6e5c3ac1fd6e4d81b7dc57d0973e266a35e3256e4"
   }
  }
 },
 "nbformat": 4,
 "nbformat_minor": 1
}
