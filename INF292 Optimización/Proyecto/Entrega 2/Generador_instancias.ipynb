{
 "cells": [
  {
   "attachments": {},
   "cell_type": "markdown",
   "metadata": {},
   "source": [
    "Para este caso de ejemplo generaremos una instancia de 6 meses, con los siguientes rangos base definidos:\n",
    "\n",
    "$\\cdot$ Costo de produccion en horario normal: 5000-10000\n",
    "\n",
    "$\\cdot$ Costo de produccion en horario extra: 5000-10000\n",
    "\n",
    "$\\cdot$ Costo de almacenamiento por unidad: 10-1000 \n",
    "\n",
    "$\\cdot$ Maximo de almacenamiento: 1-5000\n",
    "\n",
    "$\\cdot$ Maximo de produccion normal: 10000-20000\n"
   ]
  },
  {
   "cell_type": "code",
   "execution_count": 158,
   "metadata": {},
   "outputs": [],
   "source": [
    "from random import randint\n",
    "\n",
    "#inputs del costo de produccion en horario normal\n",
    "c_inf = 5000\n",
    "c_sup = 10000\n",
    "#inputs del costo de produccion en horario extra\n",
    "e_inf = 5000\n",
    "e_sup = 10000\n",
    "#inputs del costo de almacenamiento por unidad en el mes (valor fijo).\n",
    "a_inf = 10\n",
    "a_sup = 1000\n",
    "#inputs capacidad de maxima de almacenamiento en el mes (valor fijo).\n",
    "al_inf = 1\n",
    "al_sup = 5000\n",
    "#inputs de produccion normal de unidades en el mes\n",
    "p_inf = 10000\n",
    "p_sup = 20000\n",
    "\n",
    "#Listas con las demandas de prueba\n",
    "d=[]\n",
    "#Listas con los costos de produccion en horario normal en el mes\n",
    "c=[]\n",
    "#Listas con los costo de produccion en horario extra en el mes\n",
    "e=[]\n",
    "#Lista costo de almacenamiento por unidad en el mes (Valor fijo)\n",
    "a=[]\n",
    "#Lista de capacidad de almacenamiento de unidades en el mes (Valor fijo)\n",
    "al=[]\n",
    "#Lista de maximos de produccion normal de unidades en el mes (Valor fijo)\n",
    "p=[]\n",
    "#Lista de maximos ded produccion extra de unidades en el mes (Valor fijo)\n",
    "pe=[]\n",
    "#Cantidad de meses\n",
    "meses=6"
   ]
  },
  {
   "attachments": {},
   "cell_type": "markdown",
   "metadata": {},
   "source": [
    "Generacion de los costos de produccion normal:"
   ]
  },
  {
   "cell_type": "code",
   "execution_count": 159,
   "metadata": {},
   "outputs": [
    {
     "name": "stdout",
     "output_type": "stream",
     "text": [
      "Para el mes 1 con rango [5000,9994] se genero un costo de produccion normal de valor: 9156\n",
      "Para el mes 1 con rango [9157,9995] se genero un costo de produccion normal de valor: 9789\n",
      "Para el mes 2 con rango [9790,9996] se genero un costo de produccion normal de valor: 9887\n",
      "Para el mes 3 con rango [9888,9997] se genero un costo de produccion normal de valor: 9920\n",
      "Para el mes 4 con rango [9921,9998] se genero un costo de produccion normal de valor: 9998\n",
      "Para el mes 5 con rango [9999,9999] se genero un costo de produccion normal de valor: 9999\n",
      "Para el mes 6 con rango [10000,10000] se genero un costo de produccion normal de valor: 10000\n"
     ]
    }
   ],
   "source": [
    "i_2 = 0\n",
    "aux = 0\n",
    "lista_aux=[]\n",
    "while(i_2<meses): # Parametros costo de produccion en horario normal en el mes.\n",
    "  if(i_2 == 0):\n",
    "    superior = 1 - (meses/c_sup)\n",
    "    valor = randint(c_inf,int(c_sup*superior))\n",
    "    print(f\"Para el mes {i_2+1} con rango [{c_inf},{int(c_sup*superior)}] se genero un costo de produccion normal de valor: {valor}\")\n",
    "  if(i_2 >= 0):\n",
    "    aux_2 = c_sup-valor\n",
    "    superior = 1 - ((meses+aux)/aux_2)\n",
    "    aux3 = valor+1\n",
    "    valor = randint(aux3,int((aux_2*superior)+valor+1))\n",
    "    print(f\"Para el mes {i_2+1} con rango [{aux3},{int((aux_2*superior)+aux3)}] se genero un costo de produccion normal de valor: {valor}\")\n",
    "  lista_aux.append(valor)\n",
    "  aux-=1\n",
    "  i_2+=1\n",
    "c.append(lista_aux)\n"
   ]
  },
  {
   "attachments": {},
   "cell_type": "markdown",
   "metadata": {},
   "source": [
    "Generacion de costos de produccion extra:"
   ]
  },
  {
   "cell_type": "code",
   "execution_count": 160,
   "metadata": {},
   "outputs": [
    {
     "name": "stdout",
     "output_type": "stream",
     "text": [
      "Para el mes 1 con rango [5000,10000] se genero un costo de produccion extra de valor: 6602\n",
      "Para el mes 2 con rango [5000,10000] se genero un costo de produccion extra de valor: 6474\n",
      "Para el mes 3 con rango [5000,10000] se genero un costo de produccion extra de valor: 7888\n",
      "Para el mes 4 con rango [5000,10000] se genero un costo de produccion extra de valor: 9737\n",
      "Para el mes 5 con rango [5000,10000] se genero un costo de produccion extra de valor: 9116\n",
      "Para el mes 6 con rango [5000,10000] se genero un costo de produccion extra de valor: 5690\n"
     ]
    }
   ],
   "source": [
    "i_2 = 0\n",
    "lista_aux = []\n",
    "while (i_2<meses): # Parametros costo de produccion en horario extra en el mes.\n",
    "    flag = True\n",
    "    while flag:\n",
    "        valor = randint(e_inf,e_sup)\n",
    "        if(i_2 == 0):\n",
    "            lista_aux.append(valor)\n",
    "            print(f\"Para el mes {i_2+1} con rango [{e_inf},{e_sup}] se genero un costo de produccion extra de valor: {valor}\")\n",
    "            flag = False\n",
    "        if(i_2 >= 1):\n",
    "            flag = valor in lista_aux\n",
    "            if(not(flag)):\n",
    "                print(f\"Para el mes {i_2+1} con rango [{e_inf},{e_sup}] se genero un costo de produccion extra de valor: {valor}\")\n",
    "                lista_aux.append(valor)\n",
    "    i_2+=1\n",
    "e.append(lista_aux)"
   ]
  },
  {
   "attachments": {},
   "cell_type": "markdown",
   "metadata": {},
   "source": [
    "Generacion de costo de almacenamiento"
   ]
  },
  {
   "cell_type": "code",
   "execution_count": 161,
   "metadata": {},
   "outputs": [
    {
     "name": "stdout",
     "output_type": "stream",
     "text": [
      "Para todos los meses con rango [10,1000] se genero un costo de almacenamiento de valor: 72\n"
     ]
    }
   ],
   "source": [
    "almacenamiento = randint(a_inf,a_sup)\n",
    "print(f\"Para todos los meses con rango [{a_inf},{a_sup}] se genero un costo de almacenamiento de valor: {almacenamiento}\")\n",
    "a.append([almacenamiento])"
   ]
  },
  {
   "attachments": {},
   "cell_type": "markdown",
   "metadata": {},
   "source": [
    "Generacion de maximo de almacenemiento"
   ]
  },
  {
   "cell_type": "code",
   "execution_count": 162,
   "metadata": {},
   "outputs": [
    {
     "name": "stdout",
     "output_type": "stream",
     "text": [
      "Para todos los meses con rango [1,5000] se genero un maximo de almacenamiento de valor: 3777\n"
     ]
    }
   ],
   "source": [
    "CAmax = randint(al_inf,al_sup) # Parametro de almacenamiento maximo\n",
    "print(f\"Para todos los meses con rango [{al_inf},{al_sup}] se genero un maximo de almacenamiento de valor: {CAmax}\")\n",
    "al.append([CAmax])"
   ]
  },
  {
   "attachments": {},
   "cell_type": "markdown",
   "metadata": {},
   "source": [
    "Generacion de maximos de produccion normal y extra"
   ]
  },
  {
   "cell_type": "code",
   "execution_count": 163,
   "metadata": {},
   "outputs": [
    {
     "name": "stdout",
     "output_type": "stream",
     "text": [
      "Para todos los meses con rango [10000,20000] se genero un maximo de almacenamiento de valor: 12606\n",
      "Para todos los meses con rango [6303,20000] se genero un maximo de almacenamiento de valor: 13345\n"
     ]
    }
   ],
   "source": [
    "CNmax = randint(p_inf,p_sup) # Parametro de produccion maxima en horario normal\n",
    "print(f\"Para todos los meses con rango [{p_inf},{p_sup}] se genero un maximo de almacenamiento de valor: {CNmax}\")\n",
    "p.append([CNmax])\n",
    "\n",
    "CEmax = randint(int(CNmax/2),p_sup) # Parametro de produccion maxima en horario extra con restriccion de al menos la mitad de produccion en horario normal\n",
    "print(f\"Para todos los meses con rango [{int(CNmax/2)},{p_sup}] se genero un maximo de almacenamiento de valor: {CEmax}\")\n",
    "pe.append([CEmax])"
   ]
  },
  {
   "attachments": {},
   "cell_type": "markdown",
   "metadata": {},
   "source": [
    "Generacion de demandas"
   ]
  },
  {
   "cell_type": "code",
   "execution_count": 164,
   "metadata": {},
   "outputs": [
    {
     "name": "stdout",
     "output_type": "stream",
     "text": [
      "Para el mes 1 con rango [5006,29728] se genero una demanda de valor: 26934\n",
      "Para este mes se necesita almacenar:983\n",
      "Para el mes 2 con rango [24967,26933] se genero una demanda de valor: 25227\n",
      "Para este mes se necesita almacenar:0\n",
      "Para el mes 3 con rango [5004,25226] se genero una demanda de valor: 5241\n",
      "Para este mes se necesita almacenar:0\n",
      "Para el mes 4 con rango [5003,5240] se genero una demanda de valor: 5073\n",
      "Para este mes se necesita almacenar:0\n",
      "Para el mes 5 con rango [5002,5072] se genero una demanda de valor: 5060\n",
      "Para este mes se necesita almacenar:0\n",
      "Para el mes 6 con rango [5001,5059] se genero una demanda de valor: 5058\n",
      "Para este mes se necesita almacenar:0\n"
     ]
    }
   ],
   "source": [
    "lista_aux = []\n",
    "i_2 = 0\n",
    "aux = 0\n",
    "almacenado = 0\n",
    "dif= 0\n",
    "valor=0\n",
    "if CAmax > CNmax + CEmax:\n",
    "    CAmax = CNmax + CEmax - 1\n",
    "aux_meses = meses + 5000\n",
    "while (i_2<meses): # Parametros de demanda, cumpliendo el requisito de cada demanda mayor al paso del mes\n",
    "    if(i_2 == 0):\n",
    "        d_max = CNmax + CEmax + CAmax\n",
    "        if (aux_meses>CAmax):\n",
    "            valor = randint(aux_meses,d_max)\n",
    "            print(f\"Para el mes {i_2+1} con rango [{aux_meses},{d_max}] se genero una demanda de valor: {valor}\")\n",
    "        else:\n",
    "            valor = randint(CAmax,d_max)\n",
    "            print(f\"Para el mes {meses-i_2} con rango [{CAmax},{d_max}] se genero una demanda de valor: {valor}\")\n",
    "        if valor > CNmax + CEmax:\n",
    "            almacenado =  valor - CNmax - CEmax\n",
    "            dif = CAmax - almacenado\n",
    "    else:\n",
    "        if dif > 0 and aux_meses>1:\n",
    "            if dif > almacenado:\n",
    "                d_max = CNmax + CEmax + almacenado - 1\n",
    "                if d_max > valor:\n",
    "                    d_max = valor\n",
    "                d_inf = d_max - (2*almacenado)\n",
    "            else:\n",
    "                d_max = CNmax + CEmax + dif - 1\n",
    "                if d_max > valor:\n",
    "                    d_max = valor\n",
    "                d_inf = d_max - (2*dif)\n",
    "            if (aux_meses > d_inf):\n",
    "                d_inf = aux_meses\n",
    "            valor = randint(d_inf,d_max)\n",
    "            print(f\"Para el mes {i_2+1} con rango [{d_inf},{d_max}] se genero una demanda de valor: {valor}\")\n",
    "            if valor > CNmax + CEmax:\n",
    "                almacenado +=  valor - CNmax - CEmax\n",
    "                dif = CAmax - almacenado\n",
    "            else:\n",
    "                d_max-=valor\n",
    "                almacenado -=  d_max\n",
    "                dif = 0\n",
    "        elif almacenado >0 and aux_meses>1:\n",
    "            d_max = valor-1\n",
    "            valor = randint(aux_meses,d_max)\n",
    "            print(f\"Para el mes {i_2+1} con rango [{aux_meses},{d_max}] se genero una demanda de valor: {valor}\")\n",
    "            d_max -= valor\n",
    "            almacenado -=  d_max\n",
    "        elif almacenado >0 and aux_meses==1:\n",
    "            d_max = valor - almacenado\n",
    "            valor = randint(aux_meses,d_max)\n",
    "            print(f\"Para el mes {i_2+1} con rango [{aux_meses},{d_max}] se genero una demanda de valor: {valor}\")\n",
    "            almacenado = 0\n",
    "        else:\n",
    "            d_max = valor-1\n",
    "            valor = randint(aux_meses,d_max)\n",
    "            print(f\"Para el mes {i_2+1} con rango [{aux_meses},{d_max}] se genero una demanda de valor: {valor}\")\n",
    "    if(almacenado<0):\n",
    "        almacenado=0\n",
    "    print(f\"Para este mes se necesita almacenar:{almacenado}\")\n",
    "    lista_aux.append(valor)\n",
    "    aux_meses-=1\n",
    "    i_2+=1\n",
    "\n",
    "lista_aux.reverse()\n",
    "d.append(lista_aux)"
   ]
  },
  {
   "attachments": {},
   "cell_type": "markdown",
   "metadata": {},
   "source": [
    "Resultados:"
   ]
  },
  {
   "cell_type": "code",
   "execution_count": 166,
   "metadata": {},
   "outputs": [
    {
     "name": "stdout",
     "output_type": "stream",
     "text": [
      "\n",
      "Valores de los parametros para una instancia de  6  meses\n",
      "Para la demanda es:  [5058, 5060, 5073, 5241, 25227, 26934]\n",
      "Para el costo de produccion horario normal con un rango de [ 5000 , 10000 ] es:  [9789, 9887, 9920, 9998, 9999, 10000]\n",
      "Para el costo de produccion horario extra con un rango de [ 5000 , 10000 ] es:  [6602, 6474, 7888, 9737, 9116, 5690]\n",
      "Para el costo de almacenamiento con un rango de [ 10 , 1000 ] es:  [72]\n",
      "Para la capacidad de almacenamiento con un rango de [ 1 , 5000 ] es:  [3777]\n",
      "Para el maximo de produccion normal con un rango de [ 10000 , 20000 ] es:  [12606]\n",
      "Para el maximo de produccion extra con un rango de [ 6303.0 , 20000 ] es:  [13345]\n",
      "\n"
     ]
    }
   ],
   "source": [
    "print(\"\")\n",
    "print(\"Valores de los parametros para una instancia de \",meses,\" meses\")\n",
    "print(\"Para la demanda es: \",d[0])\n",
    "print(\"Para el costo de produccion horario normal con un rango de [\",c_inf,\",\",c_sup,\"] es: \",c[0])\n",
    "print(\"Para el costo de produccion horario extra con un rango de [\",e_inf,\",\",e_sup,\"] es: \",e[0])\n",
    "print(\"Para el costo de almacenamiento con un rango de [\",a_inf,\",\",a_sup,\"] es: \",a[0])\n",
    "print(\"Para la capacidad de almacenamiento con un rango de [\",al_inf,\",\",al_sup,\"] es: \",al[0])\n",
    "print(\"Para el maximo de produccion normal con un rango de [\",p_inf,\",\",p_sup,\"] es: \",p[0])\n",
    "print(\"Para el maximo de produccion extra con un rango de [\",CNmax/2,\",\",20000,\"] es: \",pe[0])\n",
    "print(\"\")"
   ]
  }
 ],
 "metadata": {
  "kernelspec": {
   "display_name": "Python 3",
   "language": "python",
   "name": "python3"
  },
  "language_info": {
   "codemirror_mode": {
    "name": "ipython",
    "version": 3
   },
   "file_extension": ".py",
   "mimetype": "text/x-python",
   "name": "python",
   "nbconvert_exporter": "python",
   "pygments_lexer": "ipython3",
   "version": "3.10.5"
  },
  "orig_nbformat": 4
 },
 "nbformat": 4,
 "nbformat_minor": 2
}
