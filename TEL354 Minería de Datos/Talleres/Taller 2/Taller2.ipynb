{
 "cells": [
  {
   "cell_type": "markdown",
   "id": "80425348",
   "metadata": {},
   "source": [
    "# TEL354 - Minería de Datos\n",
    "\n",
    "# Tarea 2: Regresión y Clasificación con Modelos de Aprendizaje Supervisado\n",
    "\n",
    "En esta tarea aplicarás técnicas de aprendizaje supervisado para resolver problemas de clasificación y regresión utilizando un dataset de enfermedades cardíacas de UCI.\n",
    "\n",
    "**Objetivos de Aprendizaje**\n",
    "* Aplicar distintos algoritmos de regresión y clasificación a un conjunto de datos real.\n",
    "* Comparar el rendimiento de los modelos mediante métricas apropiadas.\n",
    "* Interpretar y analizar los resultados de forma crítica.\n",
    "* Comprender los aspectos prácticos de la selección y evaluación de modelos."
   ]
  },
  {
   "cell_type": "markdown",
   "id": "110687e2",
   "metadata": {
    "slideshow": {
     "slide_type": "slide"
    }
   },
   "source": [
    "Nombre:"
   ]
  },
  {
   "cell_type": "markdown",
   "id": "95026a6b",
   "metadata": {},
   "source": [
    "# Dataset: Heart Disease UCI dataset\n",
    "\n",
    "Este dataset contiene información clínica y demográfica de pacientes, utilizada para analizar la presencia de enfermedad cardíaca y predecir niveles de colesterol.\n",
    "\n",
    "## Variables Predictoras\n",
    "\n",
    "- **Age**: Edad del paciente (en años)\n",
    "- **Sex**: Sexo del paciente (`M` = masculino, `F` = femenino)\n",
    "- **ChestPainType**: Tipo de dolor torácico (`TA`, `ATA`, `NAP`, `ASY`)\n",
    "- **RestingBP**: Presión arterial en reposo (mm Hg)\n",
    "- **Cholesterol**: Nivel de colesterol sérico (mg/dl)\n",
    "- **FastingBS**: Azúcar en sangre en ayunas (`1` si > 120 mg/dl, `0` si ≤ 120 mg/dl)\n",
    "- **RestingECG**: Resultados del electrocardiograma en reposo (`Normal`, `ST`, `LVH`)\n",
    "- **MaxHR**: Frecuencia cardíaca máxima alcanzada\n",
    "- **ExerciseAngina**: Angina inducida por el ejercicio (`Y` = sí, `N` = no)\n",
    "- **Oldpeak**: Depresión del ST inducida por el ejercicio (comparado con el reposo)\n",
    "- **ST_Slope**: Pendiente del segmento ST (`Up`, `Flat`, `Down`)\n",
    "\n",
    "## Variables Objetivo\n",
    "\n",
    "### Clasificación\n",
    "- **HeartDisease**:  \n",
    "  - `1` = Presencia de enfermedad cardíaca  \n",
    "  - `0` = Ausencia de enfermedad cardíaca\n",
    "\n",
    "### Regresión\n",
    "- **Cholesterol**: Nivel de colesterol sérico (mg/dl)\n",
    "\n",
    "> Nota: Algunas variables categóricas requerirán codificación (por ejemplo, one-hot encoding) antes de ser utilizadas en modelos predictivos. También se recomienda escalar variables numéricas para ciertos modelos.\n"
   ]
  },
  {
   "cell_type": "markdown",
   "id": "5ecf8468",
   "metadata": {},
   "source": [
    "# PARTE 1: CARGA Y EXPLORACIÓN AVANZADA DE DATOS"
   ]
  },
  {
   "cell_type": "markdown",
   "id": "56fe1c8b",
   "metadata": {},
   "source": [
    "## 1.1 Exploración Básica\n",
    "\n",
    "**Objetivo:** Comprender la estructura general del dataset.\n",
    "\n",
    "**Tareas:**\n",
    "\n",
    "- Cargar el dataset `heart.csv`\n",
    "- Mostrar las primeras 5-10 filas usando `df.head()`\n",
    "- Obtener información general con `df.info()` y `df.describe()`\n",
    "- Interpretar las estadísticas básicas de cada variable con comentarios claros\n",
    "\n",
    "**Entregable:**  \n",
    "Código y comentarios interpretativos sobre la estructura y contenido general del dataset."
   ]
  },
  {
   "cell_type": "code",
   "execution_count": null,
   "id": "3478bf12",
   "metadata": {},
   "outputs": [],
   "source": [
    "# Escriba aquí su código"
   ]
  },
  {
   "cell_type": "markdown",
   "id": "edc4dad6",
   "metadata": {},
   "source": [
    "## 1.2 Análisis de Valores Faltantes\n",
    "\n",
    "**Objetivo:** Detectar y planificar el tratamiento de datos faltantes.\n",
    "\n",
    "**Tareas:**\n",
    "\n",
    "- Verificar la presencia de valores nulos con `df.isnull().sum()`\n",
    "- Visualizar patrones de valores faltantes (si existen)\n",
    "- Proponer estrategia de manejo en caso de encontrar valores nulos\n",
    "\n",
    "**Entregable:**  \n",
    "Resultados del análisis, visualización (si aplica) y estrategia documentada para manejar valores faltantes.\n"
   ]
  },
  {
   "cell_type": "code",
   "execution_count": null,
   "id": "abde18b4",
   "metadata": {},
   "outputs": [],
   "source": [
    "# Escriba aquí su código"
   ]
  },
  {
   "cell_type": "markdown",
   "id": "ed2abf4f",
   "metadata": {},
   "source": [
    "## 1.3 Balance de Clases\n",
    "\n",
    "**Objetivo:** Evaluar la distribución de la variable objetivo para clasificación.\n",
    "\n",
    "**Tareas:**\n",
    "\n",
    "- Visualizar la distribución de la variable `target` usando `countplot`\n",
    "- Calcular y mostrar porcentajes de cada clase\n",
    "- Analizar implicaciones del balance/desbalance para el modelado\n",
    "\n",
    "**Entregable:**  \n",
    "Visualización clara, cálculos de distribución y análisis de las implicaciones.\n"
   ]
  },
  {
   "cell_type": "code",
   "execution_count": null,
   "id": "be88bb33",
   "metadata": {},
   "outputs": [],
   "source": [
    "# Escriba aquí su código"
   ]
  },
  {
   "cell_type": "markdown",
   "id": "f5dbc780",
   "metadata": {},
   "source": [
    "## 1.4 Análisis de Distribuciones\n",
    "\n",
    "**Objetivo:** Comprender la distribución de variables numéricas y su relación con la variable objetivo.\n",
    "\n",
    "**Tareas:**\n",
    "\n",
    "- Crear histogramas para variables numéricas, separados por clase\n",
    "- Generar `boxplots` para detectar outliers y diferencias entre clases\n",
    "- Interpretar los patrones observados\n",
    "\n",
    "**Entregable:**  \n",
    "Múltiples visualizaciones con interpretaciones claras de los patrones observados por variable.\n"
   ]
  },
  {
   "cell_type": "code",
   "execution_count": null,
   "id": "6a72a97a",
   "metadata": {},
   "outputs": [],
   "source": [
    "# Escriba aquí su código"
   ]
  },
  {
   "cell_type": "markdown",
   "id": "23f21576",
   "metadata": {},
   "source": [
    "## 1.5 Análisis de Correlaciones\n",
    "\n",
    "**Objetivo:** Identificar relaciones lineales entre variables.\n",
    "\n",
    "**Tareas:**\n",
    "\n",
    "- Generar matriz de correlación\n",
    "- Visualizar usando `heatmap` con anotaciones\n",
    "- Identificar las correlaciones más fuertes, especialmente con la variable objetivo\n",
    "\n",
    "**Entregable:**  \n",
    "`Heatmap` de correlaciones con análisis detallado de las relaciones más significativas.\n"
   ]
  },
  {
   "cell_type": "code",
   "execution_count": null,
   "id": "333d9fa0",
   "metadata": {},
   "outputs": [],
   "source": [
    "# Escriba aquí su código"
   ]
  },
  {
   "cell_type": "markdown",
   "id": "3d5001bf",
   "metadata": {},
   "source": [
    "## 1.6 Relaciones entre Variables Clave\n",
    "\n",
    "**Objetivo:** Examinar relaciones bivariadas entre variables importantes.\n",
    "\n",
    "**Tareas:**\n",
    "\n",
    "- Crear `pairplots` para un subconjunto de variables relevantes\n",
    "- Analizar patrones visibles en los `scatterplots`\n",
    "- Identificar posibles relaciones no lineales\n",
    "\n",
    "**Entregable:**  \n",
    "`Pairplots` con análisis de las relaciones más interesantes o significativas."
   ]
  },
  {
   "cell_type": "code",
   "execution_count": null,
   "id": "3353b6cc",
   "metadata": {},
   "outputs": [],
   "source": [
    "# Escriba aquí su código"
   ]
  },
  {
   "cell_type": "markdown",
   "id": "8873d3f2",
   "metadata": {},
   "source": [
    "## 1.7 Análisis de Outliers\n",
    "\n",
    "**Objetivo:** Detectar y analizar valores atípicos.\n",
    "\n",
    "**Tareas:**\n",
    "\n",
    "- Aplicar método `Z-score` para detectar outliers.\n",
    "> Nota: Por convención, un valor con Z-score mayor a 3 o menor a -3 suele considerarse un outlier.\n",
    "- Cuantificar outliers por variable\n",
    "- Evaluar el impacto potencial en el modelado\n",
    "- Proponer estrategia de manejo (mantener, transformar o eliminar)\n",
    "\n",
    "**Entregable:**  \n",
    "Análisis cuantitativo de outliers con justificación clara de la estrategia a seguir."
   ]
  },
  {
   "cell_type": "code",
   "execution_count": null,
   "id": "90745960",
   "metadata": {},
   "outputs": [],
   "source": [
    "# Escriba aquí su código"
   ]
  },
  {
   "cell_type": "markdown",
   "id": "a148c460",
   "metadata": {},
   "source": [
    "# PARTE 2: PREPROCESAMIENTO Y FEATURE ENGINEERING"
   ]
  },
  {
   "cell_type": "markdown",
   "id": "6a374e44",
   "metadata": {},
   "source": [
    "## 2.1 Separación de Variables Categóricas y Numéricas\n",
    "\n",
    "**Objetivo:** Organizar el dataset para aplicar transformaciones apropiadas.\n",
    "\n",
    "**Tareas:**\n",
    "\n",
    "- Identificar variables categóricas (binarias y multi-clase)\n",
    "- Identificar variables numéricas\n",
    "- Crear listas separadas para cada tipo\n",
    "\n",
    "**Entregable:**  \n",
    "Listas claramente definidas de variables por tipo con justificación.\n"
   ]
  },
  {
   "cell_type": "code",
   "execution_count": null,
   "id": "c3ede918",
   "metadata": {},
   "outputs": [],
   "source": [
    "# Escriba aquí su código"
   ]
  },
  {
   "cell_type": "markdown",
   "id": "40b5c2a2",
   "metadata": {},
   "source": [
    "## 2.2 Tratamiento de Valores Faltantes\n",
    "\n",
    "**Objetivo:** Implementar la estrategia definida en el punto 1.2.\n",
    "\n",
    "**Tareas:**\n",
    "\n",
    "- Aplicar método seleccionado (imputación, eliminación, etc.)\n",
    "- Verificar que no queden valores nulos\n",
    "- Justificar la elección del método\n",
    "\n",
    "**Entregable:**  \n",
    "Código implementando la estrategia con verificación de resultados."
   ]
  },
  {
   "cell_type": "code",
   "execution_count": null,
   "id": "0ba5ac7f",
   "metadata": {},
   "outputs": [],
   "source": [
    "# Escriba aquí su código"
   ]
  },
  {
   "cell_type": "markdown",
   "id": "e34dfd39",
   "metadata": {},
   "source": [
    "## 2.3 Codificación de Variables Categóricas\n",
    "\n",
    "**Objetivo:** Transformar variables categóricas en formato numérico.\n",
    "\n",
    "**Tareas:**\n",
    "\n",
    "- Aplicar técnicas de codificación (`One-Hot`, `Label Encoding`, etc.)\n",
    "- Justificar la elección de la técnica según el tipo de variable\n",
    "- Verificar el resultado de la transformación\n",
    "\n",
    "**Entregable:**  \n",
    "Código implementando las técnicas de codificación con justificación y resultados.\n"
   ]
  },
  {
   "cell_type": "code",
   "execution_count": null,
   "id": "d8597c4a",
   "metadata": {},
   "outputs": [],
   "source": [
    "# Escriba aquí su código"
   ]
  },
  {
   "cell_type": "markdown",
   "id": "17db3048",
   "metadata": {},
   "source": [
    "## 2.4 Feature Engineering\n",
    "\n",
    "**Objetivo:** Crear nuevas variables que puedan mejorar el poder predictivo.\n",
    "\n",
    "**Tareas:**\n",
    "\n",
    "- Crear al menos 2 nuevas variables derivadas (ej: productos, ratios, transformaciones)\n",
    "- Justificar la creación de cada variable derivada\n",
    "- Analizar la relación de las nuevas variables con los objetivos\n",
    "\n",
    "**Entregable:**  \n",
    "Código de creación de nuevas variables con análisis de su relevancia potencial."
   ]
  },
  {
   "cell_type": "code",
   "execution_count": null,
   "id": "9b686d01",
   "metadata": {},
   "outputs": [],
   "source": [
    "# Escriba aquí su código"
   ]
  },
  {
   "cell_type": "markdown",
   "id": "1fbd21c7",
   "metadata": {},
   "source": [
    "## 2.5 Detección de Multicolinealidad\n",
    "\n",
    "**Objetivo:** Identificar y manejar redundancia entre predictores.\n",
    "\n",
    "**Tareas:**\n",
    "\n",
    "- Calcular `VIF` (Factor de Inflación de Varianza)\n",
    "> Nota: Si una variable tiene un VIF alto, indica que está altamente correlacionada con otras y puede generar problemas en el modelo.\n",
    "| VIF        | Interpretación                                 |\n",
    "|------------|------------------------------------------------|\n",
    "| 1          | Sin correlación                                |\n",
    "| 1 - 5      | Correlación moderada (aceptable)          |\n",
    "| > 5 o 10   | Alta multicolinealidad (problema)              |\n",
    "\n",
    "- Identificar variables con alta multicolinealidad\n",
    "- Proponer estrategia (eliminación, combinación, regularización, etc.)\n",
    "\n",
    "**Entregable:**  \n",
    "Análisis de multicolinealidad con valores cuantitativos y estrategia justificada."
   ]
  },
  {
   "cell_type": "code",
   "execution_count": null,
   "id": "8ec98ea8",
   "metadata": {},
   "outputs": [],
   "source": [
    "# Escriba aquí su código"
   ]
  },
  {
   "cell_type": "markdown",
   "id": "b487aaed",
   "metadata": {},
   "source": [
    "## 2.6 Preparación para Modelos de Clasificación\n",
    "\n",
    "**Objetivo:** Definir conjuntos de variables para clasificación.\n",
    "\n",
    "**Tareas:**\n",
    "\n",
    "- Definir variable objetivo (`target`)\n",
    "- Separar dataset en características (`X`) y objetivo (`y`)\n",
    "\n",
    "**Entregable:**  \n",
    "Variables `X` e `y` definidas correctamente para el problema de clasificación."
   ]
  },
  {
   "cell_type": "code",
   "execution_count": null,
   "id": "e4099f32",
   "metadata": {},
   "outputs": [],
   "source": [
    "# Escriba aquí su código"
   ]
  },
  {
   "cell_type": "markdown",
   "id": "f41ea7db",
   "metadata": {},
   "source": [
    "## 2.7 División en Conjuntos de Entrenamiento y Prueba\n",
    "\n",
    "**Objetivo:** Crear conjuntos para entrenamiento y evaluación de modelos.\n",
    "\n",
    "**Tareas:**\n",
    "\n",
    "- Implementar `train_test_split` con proporción 70/30\n",
    "- Usar `random_state=42` para reproducibilidad\n",
    "- Implementar estratificación para mantener distribución de clases\n",
    "\n",
    "**Entregable:**  \n",
    "Conjuntos de datos divididos con informe sobre sus dimensiones."
   ]
  },
  {
   "cell_type": "code",
   "execution_count": null,
   "id": "5af5e57e",
   "metadata": {},
   "outputs": [],
   "source": [
    "# Escriba aquí su código"
   ]
  },
  {
   "cell_type": "markdown",
   "id": "5e7ca1d2",
   "metadata": {},
   "source": [
    "## 2.8 Estandarización de Características\n",
    "\n",
    "**Objetivo:** Normalizar la escala de las variables numéricas.\n",
    "\n",
    "**Tareas:**\n",
    "\n",
    "- Implementar `StandardScaler` de `sklearn`\n",
    "- Aplicar transformación a conjuntos de entrenamiento y prueba\n",
    "- Verificar resultado de la estandarización\n",
    "\n",
    "**Entregable:**  \n",
    "Datos escalados con verificación visual o estadística del resultado."
   ]
  },
  {
   "cell_type": "code",
   "execution_count": null,
   "id": "50d4abe2",
   "metadata": {},
   "outputs": [],
   "source": [
    "# Escriba aquí su código"
   ]
  },
  {
   "cell_type": "markdown",
   "id": "c22cf887",
   "metadata": {},
   "source": [
    "## 2.9 Configuración para Validación Cruzada\n",
    "\n",
    "**Objetivo:** Preparar marco para evaluación robusta de modelos.\n",
    "\n",
    "**Tareas:**\n",
    "\n",
    "- Configurar validación cruzada `k-fold` (`k=5`)\n",
    "- Establecer estratificación para mantener distribución de clases\n",
    "- Establecer semilla aleatoria para reproducibilidad\n",
    "\n",
    "**Entregable:**  \n",
    "Objeto de validación cruzada configurado correctamente."
   ]
  },
  {
   "cell_type": "code",
   "execution_count": null,
   "id": "bff4af4d",
   "metadata": {},
   "outputs": [],
   "source": [
    "# Escriba aquí su código"
   ]
  },
  {
   "cell_type": "markdown",
   "id": "95e56b08",
   "metadata": {},
   "source": [
    "# PARTE 3: MODELOS DE CLASIFICACIÓN"
   ]
  },
  {
   "cell_type": "markdown",
   "id": "b0e3f6b2",
   "metadata": {},
   "source": [
    "## 3.1 Regresión Logística\n",
    "\n",
    "**Objetivo:** Implementar modelo de clasificación lineal básico.\n",
    "\n",
    "**Tareas:**\n",
    "\n",
    "- Crear modelo de Regresión Logística\n",
    "- Optimizar hiperparámetros con `GridSearchCV` (al menos parámetro `C` y `penalty`)\n",
    "- Entrenar con datos de entrenamiento\n",
    "- Evaluar con datos de prueba usando métricas múltiples\n",
    "- Visualizar matriz de confusión y curva ROC\n",
    "- Analizar coeficientes del modelo\n",
    "\n",
    "**Entregable:**  \n",
    "Modelo entrenado, resultados de evaluación, visualizaciones e interpretación de coeficientes.\n"
   ]
  },
  {
   "cell_type": "code",
   "execution_count": null,
   "id": "c0eab3db",
   "metadata": {},
   "outputs": [],
   "source": [
    "# Escriba aquí su código"
   ]
  },
  {
   "cell_type": "markdown",
   "id": "a322a1d4",
   "metadata": {},
   "source": [
    "## 3.2 K-Nearest Neighbors (KNN)\n",
    "\n",
    "**Objetivo:** Implementar modelo de clasificación basado en instancias.\n",
    "\n",
    "**Tareas:**\n",
    "\n",
    "- Crear modelo KNN\n",
    "- Optimizar hiperparámetros (al menos `n_neighbors` y `metric`)\n",
    "- Entrenar y evaluar con métricas múltiples\n",
    "- Visualizar matriz de confusión y curva ROC\n",
    "- Analizar efecto de diferentes valores de `k`\n",
    "\n",
    "**Entregable:**  \n",
    "Modelo entrenado, resultados de evaluación, visualizaciones y análisis de la influencia de `k`.\n"
   ]
  },
  {
   "cell_type": "code",
   "execution_count": null,
   "id": "d6dc0ad8",
   "metadata": {},
   "outputs": [],
   "source": [
    "# Escriba aquí su código"
   ]
  },
  {
   "cell_type": "markdown",
   "id": "49fe9c61",
   "metadata": {},
   "source": [
    "## 3.3 Random Forest\n",
    "\n",
    "**Objetivo:** Implementar modelo de clasificación de ensamble.\n",
    "\n",
    "**Tareas:**\n",
    "\n",
    "- Crear modelo Random Forest\n",
    "- Optimizar hiperparámetros (al menos `n_estimators`, `max_depth`)\n",
    "- Entrenar y evaluar con métricas múltiples\n",
    "- Visualizar matriz de confusión y curva ROC\n",
    "- Analizar importancia de características\n",
    "\n",
    "**Entregable:**  \n",
    "Modelo entrenado, resultados de evaluación, visualizaciones y análisis de importancia de variables.\n"
   ]
  },
  {
   "cell_type": "code",
   "execution_count": null,
   "id": "44ab3b7c",
   "metadata": {},
   "outputs": [],
   "source": [
    "# Escriba aquí su código"
   ]
  },
  {
   "cell_type": "markdown",
   "id": "5cf6fd9d",
   "metadata": {},
   "source": [
    "## 3.4 Modelo Adicional\n",
    "\n",
    "**Objetivo:** Expandir análisis con modelo complementario.\n",
    "\n",
    "**Tareas:**\n",
    "\n",
    "- Elegir e implementar un cuarto modelo (`SVM`, `XGBoost`, etc.)\n",
    "- Justificar la elección del modelo adicional\n",
    "- Optimizar hiperparámetros específicos del modelo\n",
    "- Entrenar y evaluar con métricas múltiples\n",
    "- Visualizar matriz de confusión y curva ROC\n",
    "\n",
    "**Entregable:**  \n",
    "Modelo entrenado, resultados de evaluación, visualizaciones y justificación de la elección.\n"
   ]
  },
  {
   "cell_type": "code",
   "execution_count": null,
   "id": "20bada8b",
   "metadata": {},
   "outputs": [],
   "source": [
    "# Escriba aquí su código"
   ]
  },
  {
   "cell_type": "markdown",
   "id": "a38d7d5e",
   "metadata": {},
   "source": [
    "## 3.5 Comparación de Modelos\n",
    "\n",
    "**Objetivo:** Evaluar rendimiento relativo de los modelos.\n",
    "\n",
    "**Tareas:**\n",
    "\n",
    "- Crear tabla comparativa con todas las métricas clave\n",
    "- Visualizar comparaciones (`barplots`, curvas ROC múltiples, etc.)\n",
    "- Identificar fortalezas y debilidades de cada modelo\n",
    "- Seleccionar el mejor modelo con justificación clara\n",
    "\n",
    "**Entregable:**  \n",
    "Tabla comparativa, visualizaciones y análisis crítico de los resultados."
   ]
  },
  {
   "cell_type": "code",
   "execution_count": null,
   "id": "03b68742",
   "metadata": {},
   "outputs": [],
   "source": [
    "# Escriba aquí su código"
   ]
  },
  {
   "cell_type": "markdown",
   "id": "337531b2",
   "metadata": {},
   "source": [
    "## 3.6 Análisis de Importancia de Características\n",
    "\n",
    "**Objetivo:** Identificar variables más influyentes en la predicción.\n",
    "\n",
    "**Tareas:**\n",
    "\n",
    "- Extraer y visualizar importancia de características del mejor modelo\n",
    "- Si el mejor modelo no proporciona importancia directamente, implementar `permutation importance`\n",
    "> Nota: La Permutation Importance (importancia por permutación) es una técnica para evaluar la relevancia de cada predictor en un modelo ya entrenado. Se basa en medir cuánto empeora el rendimiento del modelo cuando se desordena aleatoriamente una variable.\n",
    "- Analizar qué variables son más relevantes para la predicción\n",
    "- Comparar con el análisis exploratorio inicial\n",
    "\n",
    "**Entregable:**  \n",
    "Visualización de importancia de características con análisis interpretativo."
   ]
  },
  {
   "cell_type": "code",
   "execution_count": null,
   "id": "132238f3",
   "metadata": {},
   "outputs": [],
   "source": [
    "# Escriba aquí su código"
   ]
  },
  {
   "cell_type": "markdown",
   "id": "4369c686",
   "metadata": {},
   "source": [
    "# PARTE 4: MODELOS DE REGRESIÓN"
   ]
  },
  {
   "cell_type": "markdown",
   "id": "69f6e3ba",
   "metadata": {},
   "source": [
    "## 4.1 Regresión Lineal\n",
    "\n",
    "**Objetivo:** Implementar modelo básico de regresión.\n",
    "\n",
    "**Tareas:**\n",
    "\n",
    "- Redefinir el problema para predecir colesterol (`chol`)\n",
    "- Implementar Regresión Lineal Múltiple\n",
    "- Entrenar con datos de entrenamiento\n",
    "- Evaluar con MAE, MSE, RMSE y R²\n",
    "- Analizar coeficientes del modelo\n",
    "- Implementar análisis de residuos\n",
    "\n",
    "**Entregable:**  \n",
    "Modelo entrenado, métricas de evaluación, análisis de coeficientes y diagnóstico de residuos.\n"
   ]
  },
  {
   "cell_type": "code",
   "execution_count": null,
   "id": "f05d0575",
   "metadata": {},
   "outputs": [],
   "source": [
    "# Escriba aquí su código"
   ]
  },
  {
   "cell_type": "markdown",
   "id": "e9475613",
   "metadata": {},
   "source": [
    "## 4.2 Ridge y/o Lasso Regression\n",
    "\n",
    "**Objetivo:** Implementar regresión con regularización.\n",
    "\n",
    "**Tareas:**\n",
    "\n",
    "- Implementar Ridge o Lasso Regression (o ambos)\n",
    "- Optimizar hiperparámetros (especialmente `alpha`)\n",
    "- Evaluar con métricas estándar\n",
    "- Comparar coeficientes con la regresión lineal simple\n",
    "- Analizar efecto de la regularización\n",
    "\n",
    "**Entregable:**  \n",
    "Modelo entrenado, métricas, comparación de coeficientes y análisis del impacto de la regularización.\n"
   ]
  },
  {
   "cell_type": "code",
   "execution_count": null,
   "id": "b1850740",
   "metadata": {},
   "outputs": [],
   "source": [
    "# Escriba aquí su código"
   ]
  },
  {
   "cell_type": "markdown",
   "id": "a023b176",
   "metadata": {},
   "source": [
    "## 4.3 Árbol de Regresión\n",
    "\n",
    "**Objetivo:** Implementar modelo no lineal de regresión.\n",
    "\n",
    "**Tareas:**\n",
    "\n",
    "- Implementar `DecisionTreeRegressor`\n",
    "- Optimizar hiperparámetros (especialmente `max_depth`)\n",
    "- Evaluar con métricas estándar\n",
    "- Visualizar estructura del árbol (opcional)\n",
    "- Analizar importancia de características\n",
    "\n",
    "**Entregable:**  \n",
    "Modelo entrenado, métricas, visualización opcional del árbol y análisis de variables importantes.\n"
   ]
  },
  {
   "cell_type": "code",
   "execution_count": null,
   "id": "2f706f2b",
   "metadata": {},
   "outputs": [],
   "source": [
    "# Escriba aquí su código"
   ]
  },
  {
   "cell_type": "markdown",
   "id": "ffe8bb16",
   "metadata": {},
   "source": [
    "## 4.4 Modelo Adicional\n",
    "\n",
    "**Objetivo:** Expandir análisis con modelo complementario.\n",
    "\n",
    "**Tareas:**\n",
    "\n",
    "- Elegir e implementar un cuarto modelo (`RandomForestRegressor`, `SVR`, etc.)\n",
    "- Justificar la elección\n",
    "- Optimizar hiperparámetros específicos del modelo\n",
    "- Evaluar con métricas estándar\n",
    "\n",
    "**Entregable:**  \n",
    "Modelo entrenado, métricas y justificación de la elección del modelo."
   ]
  },
  {
   "cell_type": "code",
   "execution_count": null,
   "id": "a1234e10",
   "metadata": {},
   "outputs": [],
   "source": [
    "# Escriba aquí su código"
   ]
  },
  {
   "cell_type": "markdown",
   "id": "3e31ce03",
   "metadata": {},
   "source": [
    "## 4.5 Comparación de Modelos\n",
    "\n",
    "**Objetivo:** Evaluar rendimiento relativo de los modelos de regresión.\n",
    "\n",
    "**Tareas:**\n",
    "\n",
    "- Crear tabla comparativa con todas las métricas clave\n",
    "- Visualizar predicciones vs valores reales para cada modelo\n",
    "- Identificar fortalezas y debilidades de cada enfoque\n",
    "- Seleccionar el mejor modelo con justificación clara\n",
    "\n",
    "**Entregable:**  \n",
    "Tabla comparativa, visualizaciones y análisis crítico de los resultados."
   ]
  },
  {
   "cell_type": "code",
   "execution_count": null,
   "id": "e5ec031a",
   "metadata": {},
   "outputs": [],
   "source": [
    "# Escriba aquí su código"
   ]
  },
  {
   "cell_type": "markdown",
   "id": "a28c4ac8",
   "metadata": {},
   "source": [
    "# PARTE 5: INTERPRETABILIDAD Y APLICACIÓN PRÁCTICA"
   ]
  },
  {
   "cell_type": "markdown",
   "id": "e1e12540",
   "metadata": {},
   "source": [
    "## 5.1 Análisis de Interpretabilidad\n",
    "\n",
    "**Objetivo:** Profundizar en la comprensión del comportamiento del modelo.\n",
    "\n",
    "**Tareas:**\n",
    "\n",
    "- Implementar análisis con SHAP para el mejor modelo de clasificación\n",
    "> Nota: SHAP (SHapley Additive exPlanations), es una poderosa herramienta de interpretabilidad que asigna a cada feature una contribución al resultado de una predicción.\n",
    "- Visualizar e interpretar los resultados\n",
    "- Identificar variables y valores específicos que más influyen en las predicciones\n",
    "- Conectar hallazgos con conocimiento del dominio (salud cardiovascular)\n",
    "\n",
    "**Entregable:**  \n",
    "Visualizaciones con SHAP acompañadas de una interpretación detallada."
   ]
  },
  {
   "cell_type": "code",
   "execution_count": null,
   "id": "69a2f53d",
   "metadata": {},
   "outputs": [],
   "source": [
    "# Escriba aquí su código"
   ]
  },
  {
   "cell_type": "markdown",
   "id": "d706e71c",
   "metadata": {},
   "source": [
    "## 5.2 Guardado del Mejor Modelo\n",
    "\n",
    "**Objetivo:** Persistir el modelo para uso futuro.\n",
    "\n",
    "**Tareas:**\n",
    "\n",
    "- Guardar el mejor modelo de clasificación utilizando `joblib` o `pickle`\n",
    "- Guardar también el `scaler` u otras transformaciones necesarias\n",
    "- Verificar que el modelo se pueda cargar correctamente y funcione\n",
    "\n",
    "**Entregable:**  \n",
    "Código funcional para guardar y cargar el modelo con verificación incluida."
   ]
  },
  {
   "cell_type": "code",
   "execution_count": null,
   "id": "d6651776",
   "metadata": {},
   "outputs": [],
   "source": [
    "# Escriba aquí su código"
   ]
  },
  {
   "cell_type": "markdown",
   "id": "4c793eb5",
   "metadata": {},
   "source": [
    "## 5.3 Función para Predicción\n",
    "\n",
    "**Objetivo:** Crear interfaz para uso práctico del modelo.\n",
    "\n",
    "**Tareas:**\n",
    "\n",
    "- Implementar función `predict_heart_disease()` que acepte los datos de un nuevo paciente\n",
    "- Aplicar las mismas transformaciones usadas durante el entrenamiento\n",
    "- Devolver predicción binaria y probabilidad asociada\n",
    "- Añadir categorización de riesgo basada en la probabilidad (ej. bajo, medio, alto)\n",
    "- Documentar el uso de la función con un ejemplo\n",
    "\n",
    "**Entregable:**  \n",
    "Función implementada, correctamente documentada, y ejemplo práctico de uso."
   ]
  },
  {
   "cell_type": "code",
   "execution_count": null,
   "id": "3dcacc74",
   "metadata": {},
   "outputs": [],
   "source": [
    "# Escriba aquí su código"
   ]
  },
  {
   "cell_type": "markdown",
   "id": "28a5f818",
   "metadata": {},
   "source": [
    "## 5.4 Consideraciones Éticas\n",
    "\n",
    "**Objetivo:** Reflexionar sobre implicaciones del uso del modelo.\n",
    "\n",
    "**Tareas:**\n",
    "\n",
    "- Discutir limitaciones del modelo en contexto médico\n",
    "- Analizar posibles sesgos en los datos o en las predicciones\n",
    "- Proponer una estrategia para garantizar un uso responsable de los datos\n",
    "- Reflexionar sobre consideraciones éticas específicas del dominio de aplicación\n",
    "\n",
    "**Entregable:**  \n",
    "Análisis crítico y reflexivo sobre limitaciones, sesgos y consideraciones éticas del modelo."
   ]
  },
  {
   "cell_type": "code",
   "execution_count": null,
   "id": "0055c368",
   "metadata": {},
   "outputs": [],
   "source": [
    "# Escriba aquí su código"
   ]
  },
  {
   "cell_type": "markdown",
   "id": "b65ee1db",
   "metadata": {},
   "source": [
    "# PARTE 6: CONCLUSIONES Y REFLEXIÓN"
   ]
  },
  {
   "cell_type": "markdown",
   "id": "6c8efaf1",
   "metadata": {},
   "source": [
    "## 6.1 Resumen Comparativo\n",
    "\n",
    "**Objetivo:** Sintetizar hallazgos principales del análisis completo.\n",
    "\n",
    "**Tareas:**\n",
    "\n",
    "- Crear tabla o visualización final que compare todos los modelos evaluados (clasificación y regresión)\n",
    "- Destacar los modelos con mejor rendimiento en cada tipo de tarea\n",
    "- Sintetizar los hallazgos clave sobre la importancia de las variables predictoras\n",
    "\n",
    "**Entregable:**  \n",
    "Tabla o visualización comparativa acompañada de una breve interpretación con las conclusiones más relevantes.\n"
   ]
  },
  {
   "cell_type": "markdown",
   "id": "b55b97de",
   "metadata": {},
   "source": [
    "## 6.2 Recomendaciones y Limitaciones\n",
    "\n",
    "**Objetivo:** Proveer orientación basada en el análisis realizado.\n",
    "\n",
    "**Tareas:**\n",
    "\n",
    "- Formular recomendaciones claras sobre qué modelos son más adecuados para problemas similares\n",
    "- Identificar limitaciones del análisis realizado (como tamaño del dataset, posibles sesgos, etc.)\n",
    "- Proponer mejoras concretas para investigaciones o aplicaciones futuras\n",
    "- Discutir en qué medida los resultados son aplicables a contextos reales del ámbito de la salud cardiovascular\n",
    "\n",
    "**Entregable:**  \n",
    "Lista estructurada de recomendaciones, limitaciones identificadas y propuestas de mejora."
   ]
  }
 ],
 "metadata": {
  "kernelspec": {
   "display_name": "Python 3",
   "language": "python",
   "name": "python3"
  },
  "language_info": {
   "codemirror_mode": {
    "name": "ipython",
    "version": 3
   },
   "file_extension": ".py",
   "mimetype": "text/x-python",
   "name": "python",
   "nbconvert_exporter": "python",
   "pygments_lexer": "ipython3",
   "version": "3.8.8"
  }
 },
 "nbformat": 4,
 "nbformat_minor": 5
}
