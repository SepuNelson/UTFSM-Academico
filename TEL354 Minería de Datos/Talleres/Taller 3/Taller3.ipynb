{
 "cells": [
  {
   "cell_type": "markdown",
   "id": "80425348",
   "metadata": {},
   "source": [
    "# TEL354 - Minería de Datos\n",
    "\n",
    "# Taller 3: Exploración Semántica y Emocional de Cuentos\n",
    "\n",
    "**Objetivo general:** Aplicar técnicas de procesamiento de lenguaje natural a textos narrativos, extrayendo características léxicas, semánticas, sintácticas y emocionales, con visualizaciones interpretativas y una reflexión final sobre los patrones encontrados."
   ]
  },
  {
   "cell_type": "markdown",
   "id": "110687e2",
   "metadata": {
    "slideshow": {
     "slide_type": "slide"
    }
   },
   "source": [
    "Nombre:"
   ]
  },
  {
   "cell_type": "markdown",
   "id": "5ecf8468",
   "metadata": {},
   "source": [
    "# Parte 1: Selección y Carga de los Cuentos"
   ]
  },
  {
   "cell_type": "markdown",
   "id": "56fe1c8b",
   "metadata": {},
   "source": [
    "- Selecciona al menos 3 cuentos clásicos en español de autores diferentes (ej. Horacio Quiroga, Rubén Darío, Emilia Pardo Bazán, Gabriela Mistral, Baldomero Lillo, etc.).\n",
    "\n",
    "- Los textos deben estar en formato .txt. Puedes obtenerlos desde:\n",
    "\n",
    "    - [Proyecto Gutenberg](https://www.gutenberg.org/)\n",
    "\n",
    "    - [Wikisource](https://es.wikisource.org/)\n",
    "    \n",
    "- Limpia el encabezado y pie del texto (metadatos editoriales).\n",
    "\n",
    "- Carga los cuentos en un `DataFrame`, con una fila por párrafo (o por oración), indicando:\n",
    "\n",
    "    - Título\n",
    "\n",
    "    - Autor\n",
    "\n",
    "    - Número de párrafo\n",
    "\n",
    "    - Texto"
   ]
  },
  {
   "cell_type": "code",
   "execution_count": null,
   "id": "3478bf12",
   "metadata": {},
   "outputs": [],
   "source": [
    "# Escriba aquí su código"
   ]
  },
  {
   "cell_type": "markdown",
   "id": "edc4dad6",
   "metadata": {},
   "source": [
    "# Parte 2: Preprocesamiento Avanzado del Texto\n",
    "\n",
    "- Realiza limpieza y normalización: Minúsculas, eliminación de signos y números, etc.\n",
    "\n",
    "- Tokeniza por oraciones y por palabras.\n",
    "\n",
    "- Elimina stopwords en español.\n",
    "\n",
    "- Aplica lema o raíz (lematización con `spaCy`).\n",
    "\n",
    "- Extrae características básicas:\n",
    "\n",
    "    - Largo promedio de oraciones.\n",
    "\n",
    "    - Frecuencia de palabras por cuento.\n",
    "\n",
    "    - Frecuencia de verbos, sustantivos y adjetivos.\n",
    "    \n",
    "- Genera una tabla comparativa por cuento con estadísticas básicas como la siguiente:\n",
    "\n",
    "| Título                      | Palabras totales | Prom. palabras/oración | % verbos | % adjetivos |\n",
    "|----------------------------|------------------|-------------------------|----------|--------------|\n",
    "| El almohadón de plumas     | 1324             | 12.4                    | 27%      | 14%          |\n",
    "| El velo de la reina Mab    | 1982             | 14.3                    | 23%      | 18%          |"
   ]
  },
  {
   "cell_type": "code",
   "execution_count": null,
   "id": "abde18b4",
   "metadata": {},
   "outputs": [],
   "source": [
    "# Escriba aquí su código"
   ]
  },
  {
   "cell_type": "markdown",
   "id": "ed2abf4f",
   "metadata": {},
   "source": [
    "# Parte 3: Análisis de Sentimiento y Emociones\n",
    "\n",
    "- Para cada párrafo u oración, realiza análisis emocional usando un modelo preentrenado como [`beto`](https://huggingface.co/finiteautomata/beto-sentiment-analysis) o [`nlptown`](https://huggingface.co/nlptown/bert-base-multilingual-uncased-sentiment).\n",
    "\n",
    "- Extrae emociones dominantes por párrafo/oración (alegría, tristeza, miedo, ira, sorpresa, etc.).\n",
    "\n",
    "- Calcula el perfil emocional de cada cuento (frecuencia relativa de cada emoción).\n",
    "\n",
    "- Visualiza la evolución emocional del cuento a lo largo de los párrafos como línea temporal.\n",
    "\n",
    "- Genera un gráfico de tipo línea:\n",
    "    - Eje X: párrafos (o tiempo).\n",
    "    - Eje Y: puntaje de emoción (ej. miedo, tristeza, alegría).\n",
    "\n",
    "- Genera una tabla resumen con perfil emocional por cuento."
   ]
  },
  {
   "cell_type": "code",
   "execution_count": null,
   "id": "be88bb33",
   "metadata": {},
   "outputs": [],
   "source": [
    "# Escriba aquí su código"
   ]
  },
  {
   "cell_type": "markdown",
   "id": "f5dbc780",
   "metadata": {},
   "source": [
    "# Parte 4: Análisis Semántico y Tópico\n",
    "\n",
    "- Genera una matriz de términos TF-IDF por cuento.\n",
    "\n",
    "- Aplica clustering de oraciones o párrafos para encontrar secciones temáticas.\n",
    "\n",
    "- Aplica LDA (Latent Dirichlet Allocation) para detectar temas recurrentes.\n",
    "\n",
    "- Visualizar los tópicos en cada cuento:\n",
    "\n",
    "    - nubes de palabras por tópico.\n",
    "    - gráfico de barras por peso del tema."
   ]
  },
  {
   "cell_type": "code",
   "execution_count": null,
   "id": "6a72a97a",
   "metadata": {},
   "outputs": [],
   "source": [
    "# Escriba aquí su código"
   ]
  },
  {
   "cell_type": "markdown",
   "id": "23f21576",
   "metadata": {},
   "source": [
    "# Parte 5: Estilo y Comparación entre Autores\n",
    "\n",
    "- Calcula métricas estilísticas por autor utilizando los párrafos procesados previamente. Para cada autor, estima lo siguiente:\n",
    "\n",
    "    - **Diversidad léxica:** Proporción entre el número de palabras distintas (vocabulario) y el total de palabras.\n",
    "\n",
    "    - **Longitud promedio de palabra:** Promedio del número de caracteres por palabra.\n",
    "\n",
    "    - **Uso relativo de categorías gramaticales:** (Proporción de cada categoría respecto al total de tokens por autor)\n",
    "\n",
    "        - Sustantivos (`NOUN`)\n",
    "\n",
    "        - Verbos (`VERB`)\n",
    "\n",
    "        - Adjetivos (`ADJ`)\n",
    "\n",
    "- Realiza un gráfico de comparación entre autores: Un radar chart (gráfico tipo telaraña) que compare a los autores en función de estas métricas estilísticas, permitiendo visualizar sus diferencias literarias de manera intuitiva.\n"
   ]
  },
  {
   "cell_type": "code",
   "execution_count": null,
   "id": "333d9fa0",
   "metadata": {},
   "outputs": [],
   "source": [
    "# Escriba aquí su código"
   ]
  },
  {
   "cell_type": "markdown",
   "id": "3d5001bf",
   "metadata": {},
   "source": [
    "# Parte 6: Reflexión Crítica y Conclusiones\n",
    "\n",
    "- ¿Qué diferencias semánticas y emocionales observaste entre los cuentos?\n",
    "\n",
    "- ¿Qué técnicas de NLP te parecieron más útiles para textos literarios?\n",
    "\n",
    "- ¿Qué limitaciones encontraste (ambigüedad, ironía, metáforas, etc.)?\n",
    "\n",
    "- ¿Qué podrías explorar en futuras investigaciones similares?\n",
    "\n"
   ]
  }
 ],
 "metadata": {
  "kernelspec": {
   "display_name": "Python 3",
   "language": "python",
   "name": "python3"
  },
  "language_info": {
   "codemirror_mode": {
    "name": "ipython",
    "version": 3
   },
   "file_extension": ".py",
   "mimetype": "text/x-python",
   "name": "python",
   "nbconvert_exporter": "python",
   "pygments_lexer": "ipython3",
   "version": "3.8.8"
  }
 },
 "nbformat": 4,
 "nbformat_minor": 5
}
