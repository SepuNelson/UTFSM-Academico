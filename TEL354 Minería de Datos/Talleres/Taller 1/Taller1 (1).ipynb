{
 "cells": [
  {
   "cell_type": "markdown",
   "id": "80425348",
   "metadata": {},
   "source": [
    "# TEL354 - Minería de Datos\n",
    "\n",
    "# Taller 1 - Análisis Urbano y Socioeconómico mediante Técnicas de Agrupamiento Avanzadas"
   ]
  },
  {
   "cell_type": "markdown",
   "id": "110687e2",
   "metadata": {
    "slideshow": {
     "slide_type": "slide"
    }
   },
   "source": [
    "Nombre:"
   ]
  },
  {
   "cell_type": "markdown",
   "id": "7ab1aa91",
   "metadata": {},
   "source": [
    "# Preparación del Entorno\n",
    "\n",
    "# Instalación de Dependencias"
   ]
  },
  {
   "cell_type": "code",
   "execution_count": null,
   "id": "e40375f7",
   "metadata": {
    "ExecuteTime": {
     "end_time": "2025-03-22T19:15:38.406040Z",
     "start_time": "2025-03-22T19:15:38.402564Z"
    }
   },
   "outputs": [],
   "source": [
    "# Instalar las dependencias necesarias\n",
    "# pip install geopandas scikit-learn matplotlib seaborn umap-learn hdbscan"
   ]
  },
  {
   "cell_type": "markdown",
   "id": "dfc06f6e",
   "metadata": {},
   "source": [
    "# Cargar librerías de trabajo"
   ]
  },
  {
   "cell_type": "code",
   "execution_count": null,
   "id": "98c5fd17",
   "metadata": {
    "ExecuteTime": {
     "end_time": "2025-03-22T19:15:52.722020Z",
     "start_time": "2025-03-22T19:15:38.410042Z"
    }
   },
   "outputs": [],
   "source": [
    "import numpy as np\n",
    "import pandas as pd\n",
    "import matplotlib.pyplot as plt\n",
    "import seaborn as sns\n",
    "import geopandas as gpd\n",
    "from shapely.geometry import Point, Polygon\n",
    "\n",
    "# Librerías para clustering y reducción de dimensionalidad\n",
    "from sklearn.cluster import KMeans, AgglomerativeClustering, DBSCAN, SpectralClustering\n",
    "from sklearn.mixture import GaussianMixture\n",
    "from sklearn.preprocessing import StandardScaler, MinMaxScaler, RobustScaler\n",
    "from sklearn.decomposition import PCA\n",
    "from sklearn.metrics import silhouette_score, calinski_harabasz_score, davies_bouldin_score\n",
    "import umap"
   ]
  },
  {
   "cell_type": "markdown",
   "id": "95026a6b",
   "metadata": {},
   "source": [
    "# Parte 1: Carga y Exploración de Datos\n",
    "\n",
    "En esta primera parte del taller, deberás trabajar con datos geoespaciales de las comunas de Santiago y datos socioeconómicos asociados. Realizarás la carga de archivos, exploración inicial y visualización básica de los datos.\n",
    "\n",
    "# 1.1 Geodatos Regionales\n",
    "\n",
    "**Objetivo:** Cargar un archivo shapefile que contiene la división comunal de Chile y examinar sus primeros registros.\n",
    "Instrucciones:\n",
    "\n",
    "- Utiliza la biblioteca GeoPandas (gpd) para cargar el archivo `division_comunal.shp`.\n",
    "- Almacena los datos en un DataFrame llamado `df`.\n",
    "- Muestra las primeras filas del DataFrame para explorar su estructura.\n",
    "\n",
    "**Resultado esperado:** Un DataFrame que muestre información geoespacial de las comunas, incluyendo geometrías y atributos como nombres de provincias y comunas."
   ]
  },
  {
   "cell_type": "code",
   "execution_count": null,
   "id": "28445404",
   "metadata": {
    "ExecuteTime": {
     "end_time": "2025-03-22T19:15:52.729317Z",
     "start_time": "2025-03-22T19:15:52.724411Z"
    }
   },
   "outputs": [],
   "source": [
    "# Escriba aquí su código"
   ]
  },
  {
   "cell_type": "markdown",
   "id": "b603c096",
   "metadata": {},
   "source": [
    "# 1.2 Geodatos de Santiago\n",
    "\n",
    "**Objetivo:** Filtrar los datos para obtener solo las comunas de Santiago y convertirlos al sistema de coordenadas WGS84.\n",
    "Instrucciones:\n",
    "\n",
    "- A partir del DataFrame cargado anteriormente, filtra las filas donde el nombre de la provincia sea \"Santiago\".\n",
    "- Convierte las geometrías al sistema de coordenadas WGS84 (EPSG:4326).\n",
    "- Almacena el resultado en una variable llamada `df_stgo`.\n",
    "- Muestra las primeras filas del DataFrame filtrado.\n",
    "\n",
    "**Resultado esperado:** Un DataFrame que contiene únicamente las comunas de Santiago con sus geometrías en coordenadas WGS84."
   ]
  },
  {
   "cell_type": "code",
   "execution_count": null,
   "id": "e2171050",
   "metadata": {
    "ExecuteTime": {
     "end_time": "2025-03-22T19:15:52.912273Z",
     "start_time": "2025-03-22T19:15:52.732845Z"
    }
   },
   "outputs": [],
   "source": [
    "# Escriba aquí su código"
   ]
  },
  {
   "cell_type": "markdown",
   "id": "ac29478d",
   "metadata": {},
   "source": [
    "# 1.3 Visualización del Mapa Base de Santiago\n",
    "\n",
    "**Objetivo:** Crear una visualización simple del mapa de las comunas de Santiago.\n",
    "\n",
    "**Instrucciones:**\n",
    "\n",
    "- Crea una figura usando `plt.figure()`.\n",
    "- Utiliza el método `plot()` del DataFrame `df_stgo` para dibujar el mapa.\n",
    "- Añade un título adecuado.\n",
    "- Elimina los ejes de la visualización.\n",
    "\n",
    "**Resultado esperado:** Un mapa que muestre los contornos de las comunas de Santiago."
   ]
  },
  {
   "cell_type": "code",
   "execution_count": null,
   "id": "904bf692",
   "metadata": {
    "ExecuteTime": {
     "end_time": "2025-03-22T19:15:53.067976Z",
     "start_time": "2025-03-22T19:15:52.915290Z"
    }
   },
   "outputs": [],
   "source": [
    "# Escriba aquí su código"
   ]
  },
  {
   "cell_type": "markdown",
   "id": "27bbe04a",
   "metadata": {},
   "source": [
    "# 1.4 Datos Urbanos de Santiago\n",
    "\n",
    "**Objetivo:** Cargar y explorar un conjunto de datos sobre barrios de Santiago.\n",
    "\n",
    "**Instrucciones:**\n",
    "\n",
    "- Utiliza pandas para cargar el archivo 'barrio.csv' y almacenarlo en un DataFrame llamado `df_barrio`.\n",
    "- Muestra las primeras filas del DataFrame para examinar su estructura.\n",
    "- Imprime un resumen que incluya:\n",
    "\n",
    "    - El número total de registros.\n",
    "    - El número de características (columnas).\n",
    "    - La lista de nombres de columnas disponibles.\n",
    "\n",
    "\n",
    "**Resultado esperado:** Información sobre la estructura del dataset de barrios y estadísticas resumidas de sus variables numéricas."
   ]
  },
  {
   "cell_type": "code",
   "execution_count": null,
   "id": "e333974c",
   "metadata": {
    "ExecuteTime": {
     "end_time": "2025-03-22T19:15:53.272687Z",
     "start_time": "2025-03-22T19:15:53.074991Z"
    }
   },
   "outputs": [],
   "source": [
    "# Escriba aquí su código"
   ]
  },
  {
   "cell_type": "markdown",
   "id": "04ae503c",
   "metadata": {},
   "source": [
    "# 1.5 Análisis de Nivel Socioeconómico (NSE)\n",
    "\n",
    "**Objetivo:** Analizar la distribución del nivel socioeconómico en los barrios de Santiago.\n",
    "\n",
    "**Instrucciones:**\n",
    "\n",
    "- Crea una figura.\n",
    "- Generar un histograma de la columna 'nse' con una estimación de densidad.\n",
    "- Añade un título adecuado y etiqueta los ejes.\n",
    "- Agrega una cuadrícula.\n",
    "- Muestra la visualización.\n",
    "\n",
    "**Resultado esperado:** Un histograma que muestre cómo se distribuye el nivel socioeconómico entre los barrios de Santiago."
   ]
  },
  {
   "cell_type": "code",
   "execution_count": null,
   "id": "b97d6988",
   "metadata": {
    "ExecuteTime": {
     "end_time": "2025-03-22T19:15:53.598075Z",
     "start_time": "2025-03-22T19:15:53.427012Z"
    }
   },
   "outputs": [],
   "source": [
    "# Escriba aquí su código"
   ]
  },
  {
   "cell_type": "markdown",
   "id": "c1c3bf3f",
   "metadata": {},
   "source": [
    "# 1.6 Visualización Geoespacial de NSE\n",
    "\n",
    "**Objetivo:** Crear una visualización que combine el mapa de Santiago con la información de nivel socioeconómico de los barrios.\n",
    "\n",
    "**Instrucciones:**\n",
    "\n",
    "- Crea un mapa base usando las comunas de Santiago (`df_stgo`) con un color de relleno y contorno adecuado.\n",
    "- Sobre este mapa, utiliza unn scatterplot para representar cada barrio según sus coordenadas de longitud y latitud del DataFrame `df_barrio`.\n",
    "- Codifica el nivel socioeconómico (columna 'nse') mediante colores usando un mapa de colores adecuado.\n",
    "- Añade una barra de colores que muestre la escala del nivel socioeconómico.\n",
    "- Agrega un título adecuado y elimina los ejes de la visualización.\n",
    "\n",
    "**Resultado esperado:** Un mapa de Santiago donde los barrios están representados como puntos cuyo color refleja su nivel socioeconómico, permitiendo identificar patrones espaciales de segregación socioeconómica."
   ]
  },
  {
   "cell_type": "code",
   "execution_count": null,
   "id": "17b835b1",
   "metadata": {
    "ExecuteTime": {
     "end_time": "2025-03-22T19:15:53.598075Z",
     "start_time": "2025-03-22T19:15:53.427012Z"
    }
   },
   "outputs": [],
   "source": [
    "# Escriba aquí su código"
   ]
  },
  {
   "cell_type": "markdown",
   "id": "098c25b8",
   "metadata": {},
   "source": [
    "# Parte 2: Preprocesamiento y Transformación de Datos\n",
    "\n",
    "**Objetivo**\n",
    "En esta segunda parte del taller, realizarás el preprocesamiento y la transformación de los datos para prepararlos para un análisis de clustering. El propósito general es analizar la estructura socioeconómica y urbana de Santiago mediante técnicas avanzadas de clustering y visualización geoespacial, comparando diferentes enfoques metodológicos y evaluando la calidad de los agrupamientos resultantes.\n",
    "\n",
    "**Contexto**\n",
    "Antes de comenzar, vamos a asumir que el nivel socioeconómico (NSE) en Chile se clasifica en siete categorías:\n",
    "\n",
    "- AB: clase alta\n",
    "- C1a: clase media acomodada\n",
    "- C1b: clase media emergente\n",
    "- C2: clase media típica\n",
    "- C3: clase media baja\n",
    "- D: clase media vulnerable\n",
    "- E: pobres\n",
    "\n",
    "Esta clasificación será relevante para interpretar los resultados de nuestro análisis.\n",
    "\n",
    "# 2.1 Preprocesamiento de Datos\n",
    "\n",
    "**Objetivo:** Preparar los datos para el análisis de clustering mediante la transformación de coordenadas, estandarización de variables y creación de conjuntos de datos agregados por comuna.\n",
    "\n",
    "**Instrucciones:**\n",
    "\n",
    "\n",
    "## Agregación por comuna:\n",
    "\n",
    "- Agrupa los datos del DataFrame `df_barrio` por la columna 'comuna'.\n",
    "- Calcula el promedio de 'longitud', 'latitud' y 'nse' para cada comuna.\n",
    "- Reinicia el índice para obtener un DataFrame común.\n",
    "- Almacena el resultado en un nuevo DataFrame llamado `comuna_grouped`.\n",
    "\n",
    "## Estandarización de datos agrupados:\n",
    "\n",
    "- Define una lista llamada `features` que contenga las columnas 'longitud', 'latitud' y 'nse'.\n",
    "- Instancia un objeto `StandardScaler` de scikit-learn.\n",
    "- Crea una copia del DataFrame `comuna_grouped` llamada `comuna_scaled`.\n",
    "- Aplica el método `fit_transform` del escalador a las columnas especificadas en features.\n",
    "- Convierte los nombres de comunas en `comuna_grouped` a mayúsculas.\n",
    "- Crea una copia del DataFrame geoespacial `df_stgo` llamada `df_stgo_norm`.\n",
    "- Convierte los nombres de comunas en la columna 'NOM_COM' de `df_stgo_norm` a mayúsculas.\n",
    "\n",
    "\n",
    "## Verificación de datos procesados:\n",
    "\n",
    "- Muestra las primeras filas del DataFrame `comuna_grouped`."
   ]
  },
  {
   "cell_type": "code",
   "execution_count": null,
   "id": "4a09c986",
   "metadata": {
    "ExecuteTime": {
     "end_time": "2025-03-22T19:15:53.754445Z",
     "start_time": "2025-03-22T19:15:53.603078Z"
    }
   },
   "outputs": [],
   "source": [
    "# Escriba aquí su código"
   ]
  },
  {
   "cell_type": "markdown",
   "id": "5c0b73a3",
   "metadata": {},
   "source": [
    "# Parte 3: Análisis de Clustering\n",
    "\n",
    "En esta tercera parte del taller, aplicarás técnicas de clustering para identificar patrones socioeconómicos y espaciales en las comunas de Santiago. Determinarás el número óptimo de clusters, implementarás diferentes algoritmos de clustering y visualizarás los resultados en mapas.\n",
    "\n",
    "# 3.1 Determinación del Número Óptimo de Clusters\n",
    "\n",
    "**Objetivo:** Desarrollar una función que permita determinar el número ideal de clusters utilizando múltiples métricas de evaluación.\n",
    "\n",
    "**Instrucciones:**\n",
    "\n",
    "- Crea una función que reciba un DataFrame y un número máximo de clusters a evaluar.\n",
    "- Dentro de la función, implementa tres métodos para evaluar el número óptimo de clusters:\n",
    "\n",
    "- **Método del Codo (Elbow Method):**\n",
    "\n",
    "    - Calcula la inercia (suma de cuadrados dentro del cluster) para diferentes valores de k.\n",
    "    - Crea un gráfico de línea con marcadores que muestre la inercia en función del número de clusters.\n",
    "    - Configura el título como \"Método del Codo\", etiqueta el eje X como \"Número de clusters\" y el eje Y como \"Inercia\".\n",
    "\n",
    "\n",
    "- **Coeficiente de Silueta (Silhouette Coefficient):**\n",
    "\n",
    "    - Calcula el puntaje de silueta para diferentes valores de k.\n",
    "    - Crea un gráfico de línea con marcadores que muestre el puntaje de silueta en función del número de clusters.\n",
    "    - Configura el título como \"Coeficiente de Silueta\", etiqueta el eje X como \"Número de clusters\" y el eje Y como \"Puntaje de Silueta\".\n",
    "\n",
    "\n",
    "- **Índice Calinski-Harabasz:**\n",
    "\n",
    "    - Calcula el puntaje Calinski-Harabasz para diferentes valores de k.\n",
    "    - Crea un gráfico de línea con marcadores que muestre el puntaje CH en función del número de clusters.\n",
    "    - Configura el título como \"Índice Calinski-Harabasz\", etiqueta el eje X como \"Número de clusters\" y el eje Y como \"Puntaje CH\".\n",
    "\n",
    "\n",
    "\n",
    "\n",
    "- Organiza los tres gráficos en una fila usando subplots.\n",
    "- Aplica la función creada al DataFrame `comuna_scaled`.\n",
    "\n",
    "**Resultado esperado:** Tres gráficos que muestren diferentes métricas para evaluar el número óptimo de clusters. Basándote en estos resultados, deberás seleccionar el valor de k más adecuado para los análisis posteriores."
   ]
  },
  {
   "cell_type": "code",
   "execution_count": null,
   "id": "a8829209",
   "metadata": {
    "ExecuteTime": {
     "end_time": "2025-03-22T19:15:53.929443Z",
     "start_time": "2025-03-22T19:15:53.757447Z"
    },
    "scrolled": false
   },
   "outputs": [],
   "source": [
    "# Escriba aquí su código"
   ]
  },
  {
   "cell_type": "markdown",
   "id": "f10a076b",
   "metadata": {},
   "source": [
    "# 3.2 Aplicación de Algoritmos de Clustering\n",
    "\n",
    "**Objetivo:** Aplicar y comparar cuatro algoritmos de clustering diferentes a los datos de las comunas de Santiago.\n",
    "\n",
    "**Instrucciones:**\n",
    "\n",
    "## K-Means Clustering:\n",
    "\n",
    "- Define el número óptimo de clusters basado en el análisis de la sección 3.1.\n",
    "- Implementa el algoritmo K-Means con el número de clusters determinado.\n",
    "- Almacena los resultados de la asignación de clusters en la columna 'kmeans_cluster' del DataFrame `comuna_scaled`.\n",
    "- Transfiere los resultados al DataFrame `comuna_grouped`.\n",
    "\n",
    "\n",
    "## Clustering Jerárquico (Agglomerative Clustering):\n",
    "\n",
    "- Evalúa cuatro métodos de enlace (linkage): 'ward', 'complete', 'average', y 'single'.\n",
    "- Para cada método, crea un objeto AgglomerativeClustering con el número óptimo de clusters.\n",
    "- Calcula el puntaje de silueta para cada método.\n",
    "- Genera dendrogramas para visualizar la estructura jerárquica resultante de cada método.\n",
    "- Crea un gráfico de barras comparando los puntajes de silueta de los diferentes métodos.\n",
    "- Identifica el mejor método de enlace basado en el puntaje de silueta más alto.\n",
    "- Aplica el clustering jerárquico con el mejor método de enlace.\n",
    "- Almacena los resultados en la columna 'agg_cluster' de los DataFrames `comuna_scaled` y `comuna_grouped`.\n",
    "\n",
    "\n",
    "## DBSCAN (Density-Based Spatial Clustering of Applications with Noise):\n",
    "\n",
    "- Aplica DBSCAN con los parámetros que consideres más adecuados luego de realizar diferentes pruebas.\n",
    "- Almacena los resultados en la columna 'dbscan_cluster' de los DataFrames `comuna_scaled` y `comuna_grouped`.\n",
    "\n",
    "\n",
    "## GMM (Gaussian Mixture Models):\n",
    "\n",
    "- Implementa un modelo GMM con el número óptimo de componentes.\n",
    "- Almacena los resultados en la columna 'gmm_cluster' de los DataFrames `comuna_scaled` y `comuna_grouped`.\n",
    "\n",
    "\n",
    "## Comparación Visual de Algoritmos:\n",
    "\n",
    "- Crea una figura con cuatro subplots para comparar los resultados de los cuatro algoritmos.\n",
    "- Para cada algoritmo, genera un gráfico de dispersión usando las coordenadas de longitud y latitud.\n",
    "- Codifica los clusters mediante colores usando diferentes mapas de colores para cada algoritmo.\n",
    "- Añade barras de color, títulos y etiquetas apropiadas.\n",
    "\n",
    "\n",
    "\n",
    "**Resultado esperado:** Una comparación visual de cómo los diferentes algoritmos de clustering agrupan las comunas de Santiago, permitiendo identificar fortalezas y debilidades de cada enfoque."
   ]
  },
  {
   "cell_type": "code",
   "execution_count": null,
   "id": "4da45d7d",
   "metadata": {
    "ExecuteTime": {
     "end_time": "2025-03-22T19:15:54.078881Z",
     "start_time": "2025-03-22T19:15:53.930881Z"
    },
    "scrolled": false
   },
   "outputs": [],
   "source": [
    "# Escriba aquí su código"
   ]
  },
  {
   "cell_type": "markdown",
   "id": "41648b52",
   "metadata": {},
   "source": [
    "# 3.3 Fusión con Datos Geoespaciales y Visualización en Mapa\n",
    "\n",
    "**Objetivo:** Visualizar los resultados de los algoritmos de clustering en mapas geoespaciales de Santiago.\n",
    "\n",
    "**Instrucciones:**\n",
    "\n",
    "## Preparación de datos para fusión:\n",
    "\n",
    "- Crea una copia del DataFrame `comuna_grouped` llamada `comuna_geo`.\n",
    "\n",
    "\n",
    "## Fusión con datos geoespaciales:\n",
    "\n",
    "- Combina el DataFrame `df_stgo_norm` con `comuna_geo` usando una fusión izquierda (left join).\n",
    "- Realiza la fusión utilizando las columnas 'NOM_COM' de `df_stgo_norm` y 'comuna' de `comuna_geo`.\n",
    "- Almacena el resultado en `df_stgo_merged`.\n",
    "\n",
    "\n",
    "## Visualización de resultados en mapas:\n",
    "\n",
    "- Crea una figura con cuatro subplots organizados en una matriz 2x2.\n",
    "- Para cada algoritmo (K-Means, Clustering Jerárquico, DBSCAN, GMM):\n",
    "\n",
    "    - Genera un mapa de las comunas de Santiago coloreado según la asignación de clusters.\n",
    "    - Añade una leyenda con la etiqueta correspondiente al algoritmo.\n",
    "    - Establece un título descriptivo.\n",
    "    - Elimina los ejes para mejorar la visualización del mapa.\n",
    "\n",
    "\n",
    "**Resultado esperado:** Un panel de cuatro mapas que muestran la segmentación urbana de Santiago según los diferentes algoritmos de clustering, permitiendo una comparación visual de los patrones espaciales identificados por cada método."
   ]
  },
  {
   "cell_type": "code",
   "execution_count": null,
   "id": "ca90fa87",
   "metadata": {
    "ExecuteTime": {
     "end_time": "2025-03-22T19:15:54.264789Z",
     "start_time": "2025-03-22T19:15:54.080883Z"
    }
   },
   "outputs": [],
   "source": [
    "# Escriba aquí su código"
   ]
  },
  {
   "cell_type": "markdown",
   "id": "7d4b8d1d",
   "metadata": {},
   "source": [
    "# Parte 4: Análisis de NSE por Cluster\n",
    "\n",
    "En esta cuarta parte del taller, analizarás la relación entre los clusters identificados y el nivel socioeconómico (NSE) de las comunas de Santiago. Realizarás un análisis estadístico y crearás visualizaciones para comprender mejor los patrones socioeconómicos captados por el algoritmo de clustering.\n",
    "\n",
    "# 4.1 Caracterización de Clusters\n",
    "\n",
    "**Objetivo:** Analizar y visualizar las características de nivel socioeconómico de cada cluster para comprender los patrones de segregación socioeconómica en Santiago.\n",
    "\n",
    "**Instrucciones:**\n",
    "\n",
    "## Análisis estadístico de NSE por cluster con K-Means:\n",
    "\n",
    "- Utiliza el método `groupby` para agrupar los datos del DataFrame `comuna_grouped` por la columna 'kmeans_cluster'.\n",
    "- Calcula las siguientes estadísticas para la variable 'nse' en cada cluster:\n",
    "\n",
    "    - Media (mean)\n",
    "    - Desviación estándar (std)\n",
    "    - Valor mínimo (min)\n",
    "    - Valor máximo (max)\n",
    "    - Número de comunas (count)\n",
    "\n",
    "\n",
    "- Almacena los resultados en un DataFrame llamado `cluster_stats`.\n",
    "- Muestra el DataFrame `cluster_stats`.\n",
    "\n",
    "\n",
    "## Visualización de la distribución de NSE por cluster:\n",
    "\n",
    "- Generar un boxplot que muestre la distribución del NSE en cada cluster.\n",
    "- Configura el eje X para representar los clusters ('kmeans_cluster') y el eje Y para el nivel socioeconómico ('nse').\n",
    "- Añade un título y etiqueta los ejes.\n",
    "- Agrega una cuadrícula.\n",
    "- Muestra la visualización.\n",
    "\n",
    "\n",
    "## Creación de un mapa de calor de NSE por comuna:\n",
    "\n",
    "- Utiliza el método plot del DataFrame `df_stgo_merged` para generar un mapa coroplético que visualice el NSE promedio por comuna.\n",
    "- Utiliza un mapa de colores adecuado para representar los valores de NSE.\n",
    "- Incluye una leyenda, un título, elimina los ejes y muestra la visualización.\n",
    "\n",
    "\n",
    "Estos resultados te permitirán interpretar cómo el algoritmo K-Means ha capturado los patrones de segregación socioeconómica en Santiago y cómo se distribuyen espacialmente estos patrones."
   ]
  },
  {
   "cell_type": "code",
   "execution_count": null,
   "id": "cd081569",
   "metadata": {
    "ExecuteTime": {
     "end_time": "2025-03-22T19:15:54.429808Z",
     "start_time": "2025-03-22T19:15:54.270471Z"
    }
   },
   "outputs": [],
   "source": [
    "# Escriba aquí su código"
   ]
  },
  {
   "cell_type": "markdown",
   "id": "0c534432",
   "metadata": {},
   "source": [
    "# Parte 5: Reducción de Dimensionalidad y Visualización Avanzada\n",
    "\n",
    "En esta quinta parte del taller, aplicarás técnicas de reducción de dimensionalidad para visualizar de manera más efectiva los patrones multidimensionales presentes en los datos. Utilizarás PCA (Análisis de Componentes Principales) para una reducción lineal y UMAP para una proyección no lineal.\n",
    "\n",
    "# 5.1 Análisis de Componentes Principales (PCA)\n",
    "\n",
    "**Objetivo:** Reducir la dimensionalidad de los datos mediante PCA y visualizar los resultados en relación con los clusters identificados y el nivel socioeconómico.\n",
    "\n",
    "**Instrucciones:**\n",
    "\n",
    "## Aplicación de PCA:\n",
    "\n",
    "- Crea un objeto PCA configurado para extraer 2 componentes principales.\n",
    "- Aplica PCA a los datos estandarizados (`comuna_scaled[features]`) utilizando el método `fit_transform`.\n",
    "- Almacena el resultado de la transformación en una variable llamada `comuna_pca`.\n",
    "\n",
    "\n",
    "## Creación de DataFrame con resultados de PCA:\n",
    "\n",
    "- Genera un nuevo DataFrame llamado `pca_df` que incluya:\n",
    "\n",
    "    - Los nombres de las comunas.\n",
    "    - Las coordenadas en el espacio PCA (PC1 y PC2).\n",
    "    - Las asignaciones de clusters para cada algoritmo (K-Means, Jerárquico, DBSCAN y GMM).\n",
    "    - Los valores de NSE originales.\n",
    "\n",
    "\n",
    "\n",
    "\n",
    "## Visualización de resultados PCA:\n",
    "\n",
    "- Crea una figura con 4 subplots organizados en una matriz 2x2.\n",
    "- En cada subplot, genera un gráfico de dispersión con las coordenadas PC1 y PC2, donde:\n",
    "\n",
    "    - Primer subplot: Colorea los puntos según los clusters de K-Means con la paleta 'viridis'.\n",
    "    - Segundo subplot: Colorea los puntos según los clusters jerárquicos con la paleta 'plasma'.\n",
    "    - Tercer subplot: Colorea los puntos según los clusters de DBSCAN con la paleta 'cividis'.\n",
    "    - Cuarto subplot: Colorea los puntos según el valor de NSE con la paleta 'RdYlBu_r'.\n",
    "\n",
    "\n",
    "- Configura títulos adecuados para cada gráfico.\n",
    "- Añade cuadrículas suaves a cada gráfico.\n",
    "\n",
    "\n",
    "## Análisis de varianza explicada:\n",
    "\n",
    "- Extrae los ratios de varianza explicada del objeto PCA.\n",
    "- Imprime la varianza explicada por PC1 con 4 decimales.\n",
    "- Imprime la varianza explicada por PC2 con 4 decimales.\n",
    "- Calcula e imprime la varianza acumulada (suma de las dos componentes).\n",
    "\n",
    "\n",
    "## Visualización de contribución de variables:\n",
    "\n",
    "- Crea un DataFrame con los componentes principales, donde las filas son los componentes y las columnas son las variables originales.\n",
    "- Genera un mapa de calor que muestre la contribución de cada variable original a cada componente principal.\n",
    "- Configura el mapa para mostrar los valores exactos dentro de cada celda.\n",
    "- Añade un título descriptivo.\n",
    "\n",
    "\n",
    "\n",
    "**Resultado esperado:** Una serie de visualizaciones que te permitirán entender cómo se proyectan los datos en un espacio bidimensional mediante PCA, cómo se relacionan los clusters con esta proyección, y qué variables originales contribuyen más a cada componente principal."
   ]
  },
  {
   "cell_type": "code",
   "execution_count": null,
   "id": "53d11c4c",
   "metadata": {
    "ExecuteTime": {
     "end_time": "2025-03-22T19:15:54.628828Z",
     "start_time": "2025-03-22T19:15:54.432741Z"
    }
   },
   "outputs": [],
   "source": [
    "# Escriba aquí su código"
   ]
  },
  {
   "cell_type": "markdown",
   "id": "6d209e02",
   "metadata": {},
   "source": [
    "# 5.2 Aplicación de UMAP para Visualización No Lineal\n",
    "\n",
    "**Objetivo:** Aplicar la técnica UMAP (Uniform Manifold Approximation and Projection) para obtener una proyección no lineal de los datos y visualizar patrones que podrían no ser evidentes con métodos lineales como PCA.\n",
    "\n",
    "**Instrucciones:**\n",
    "\n",
    "## Aplicación de UMAP:\n",
    "\n",
    "- Crea un objeto UMAP con una semilla para garantizar reproducibilidad.\n",
    "- Aplica UMAP a los datos estandarizados (`comuna_scaled[features]`) utilizando el método `fit_transform`.\n",
    "- Almacena el resultado de la transformación en una variable llamada `embedding`.\n",
    "\n",
    "\n",
    "## Creación de DataFrame con resultados de UMAP:\n",
    "\n",
    "- Genera un nuevo DataFrame llamado `umap_df` que incluya:\n",
    "\n",
    "    - Los nombres de las comunas.\n",
    "    - Las coordenadas en el espacio UMAP (UMAP1 y UMAP2).\n",
    "    - Las asignaciones de clusters para cada algoritmo.\n",
    "    - Los valores de NSE originales.\n",
    "\n",
    "\n",
    "\n",
    "\n",
    "## Visualización de resultados UMAP:\n",
    "\n",
    "- Crea una figura con 4 subplots organizados en una matriz 2x2.\n",
    "- En cada subplot, genera un gráfico de dispersión con las coordenadas UMAP1 y UMAP2, donde:\n",
    "\n",
    "    - Primer subplot: Colorea los puntos según los clusters de K-Means.\n",
    "    - Segundo subplot: Colorea los puntos según los clusters jerárquicos.\n",
    "    - Tercer subplot: Colorea los puntos según los clusters de DBSCAN.\n",
    "    - Cuarto subplot: Colorea los puntos según el valor de NSE.\n",
    "\n",
    "\n",
    "- Utiliza las mismas paletas de colores que en las visualizaciones de PCA.\n",
    "- Configura títulos adecuados para cada gráfico.\n",
    "- Añade cuadrículas suaves a cada gráfico.\n",
    "\n",
    "\n",
    "\n",
    "**Resultado esperado:** Una serie de visualizaciones que te permitirán comparar cómo se proyectan los datos usando UMAP frente a PCA. UMAP suele preservar mejor la estructura local de los datos, lo que puede revelar agrupaciones que no son evidentes con PCA. Estas visualizaciones te ayudarán a evaluar la coherencia de los resultados de clustering y su relación con el nivel socioeconómico."
   ]
  },
  {
   "cell_type": "code",
   "execution_count": null,
   "id": "5d190f11",
   "metadata": {
    "ExecuteTime": {
     "end_time": "2025-03-22T19:15:54.736993Z",
     "start_time": "2025-03-22T19:15:54.630831Z"
    }
   },
   "outputs": [],
   "source": [
    "# Escriba aquí su código"
   ]
  },
  {
   "cell_type": "markdown",
   "id": "7499a580",
   "metadata": {},
   "source": [
    "# Parte 6: Análisis Geoespacial Integrado con Riqueza Urbana\n",
    "\n",
    "En esta sección final, integraremos todos los elementos de los análisis anteriores para crear visualizaciones avanzadas que combinen datos geoespaciales con indicadores de riqueza urbana.\n",
    "\n",
    "# 6.1 Análisis de Hot Spots de Riqueza\n",
    "\n",
    "**Objetivo:** Desarrollar un mapa de calor que muestre visualmente las concentraciones de riqueza en la ciudad de Santiago, utilizando técnicas de estimación de densidad kernel (KDE).\n",
    "\n",
    "**Instrucciones:**\n",
    "\n",
    "- Cree una figura de matplotlib con un tamaño adecuado.\n",
    "- Como capa base, represente gráficamente el dataframe `df_stgo_merged` con un color de fondo claro y bordes visibles.\n",
    "- Para la capa de mapa de calor:\n",
    "\n",
    "    - Extraiga las coordenadas (longitud y latitud) del dataframe `df_barrio`.\n",
    "    - Use el nivel socioeconómico (nse) como pesos para el análisis de densidad.\n",
    "    - Implemente una estimación de densidad kernel usando `scipy.stats.gaussian_kde`.\n",
    "    - Ordene los puntos por densidad para una mejor visualización.\n",
    "    - Cree un gráfico de dispersión con los puntos coloreados según su densidad usando un mapa de colores adecuado.\n",
    "\n",
    "\n",
    "- Añada una barra de colores al gráfico que indique la densidad de riqueza.\n",
    "- Agregue un título apropiado al gráfico y configure el diseño para una presentación óptima.\n",
    "- Desactive los ejes para mejorar la apariencia visual del mapa.\n",
    "- Muestre el mapa resultante.\n",
    "\n",
    "**Resultado esperado:** Un mapa de calor interactivo que resalte visualmente las áreas de Santiago con mayor concentración de riqueza, permitiendo identificar patrones espaciales de desigualdad socioeconómica.\n",
    "\n",
    "Recomendación: Para una visualización efectiva, experimente con diferentes mapas de colores y niveles de transparencia (alpha) hasta encontrar una representación visual que destaque claramente los hot spots de riqueza."
   ]
  },
  {
   "cell_type": "code",
   "execution_count": null,
   "id": "c45cec2d",
   "metadata": {
    "ExecuteTime": {
     "end_time": "2025-03-22T19:15:54.837728Z",
     "start_time": "2025-03-22T19:15:54.738995Z"
    }
   },
   "outputs": [],
   "source": [
    "# Escriba aquí su código"
   ]
  },
  {
   "cell_type": "markdown",
   "id": "317516eb",
   "metadata": {},
   "source": [
    "# Parte 7: Preguntas de Análisis\n",
    "\n",
    "1. Análisis Sociourbano:\n",
    "\n",
    "- ¿Es posible identificar sectores de concentración de riqueza en Santiago? ¿Qué comunas conforman estos sectores y qué características geoespaciales comparten?\n",
    "- ¿Existe un patrón espacial claro en la distribución del nivel socioeconómico en Santiago? ¿Cómo se relaciona este patrón con la estructura urbana de la ciudad?\n",
    "- Basándose en los resultados del clustering, ¿podría decirse que Santiago presenta segregación socioespacial? Justifique su respuesta con evidencia cuantitativa derivada de los análisis realizados.\n",
    "- Si tuviera que dividir Santiago en exactamente 3 macrozonas socioeconómicas, ¿cuáles serían estas y qué características particulares tendría cada una?\n",
    "\n",
    "2. Comparación de Algoritmos:\n",
    "\n",
    "- ¿Qué diferencias fundamentales observa entre los resultados obtenidos con K-Means, Clustering Jerárquico, DBSCAN y GMM? ¿Cuál considera más adecuado para este análisis socioespacial y por qué?\n",
    "- Analice críticamente las ventajas y limitaciones de cada algoritmo de clustering en el contexto específico de datos georreferenciados con componente socioeconómica.\n",
    "- ¿Qué algoritmo logra mejor capturar la heterogeneidad interna de las comunas? Proporcione evidencia cuantitativa que respalde su respuesta.\n",
    "\n",
    "3. Aplicaciones y Extensiones:\n",
    "\n",
    "- Proponga una aplicación práctica de los resultados obtenidos en el ámbito de políticas públicas urbanas o planificación territorial.\n",
    "- Si tuviera acceso a datos temporales del NSE para Santiago (por ejemplo, para los últimos 20 años), ¿qué análisis adicionales realizaría para estudiar la evolución de la segregación urbana?\n",
    "- ¿Cómo podría incorporar información adicional (criminalidad, densidad poblacional, acceso a servicios, etc.) para enriquecer este análisis? Describa metodológicamente cómo lo haría."
   ]
  }
 ],
 "metadata": {
  "kernelspec": {
   "display_name": "Python 3 (ipykernel)",
   "language": "python",
   "name": "python3"
  },
  "language_info": {
   "codemirror_mode": {
    "name": "ipython",
    "version": 3
   },
   "file_extension": ".py",
   "mimetype": "text/x-python",
   "name": "python",
   "nbconvert_exporter": "python",
   "pygments_lexer": "ipython3",
   "version": "3.11.3"
  }
 },
 "nbformat": 4,
 "nbformat_minor": 5
}
